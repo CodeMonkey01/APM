{
 "cells": [
  {
   "cell_type": "code",
   "execution_count": 1,
   "metadata": {},
   "outputs": [],
   "source": [
    "import numpy as np\n",
    "import pandas as pd\n",
    "import glob\n",
    "import os\n",
    "import git\n",
    "import pm4py\n",
    "from pm4py.objects.log.importer.xes import factory as xes_import_factory\n",
    "from replearn.eventlog import EventLog\n",
    "from log_iteration import Iteration"
   ]
  },
  {
   "cell_type": "code",
   "execution_count": 2,
   "metadata": {},
   "outputs": [
    {
     "ename": "KeyError",
     "evalue": "'cases'",
     "output_type": "error",
     "traceback": [
      "\u001b[1;31m---------------------------------------------------------------------------\u001b[0m",
      "\u001b[1;31mKeyError\u001b[0m                                  Traceback (most recent call last)",
      "\u001b[1;32m~\\AppData\\Local\\Temp\\ipykernel_1876\\1474848071.py\u001b[0m in \u001b[0;36m<module>\u001b[1;34m\u001b[0m\n\u001b[0;32m     35\u001b[0m     \u001b[1;31m# load file\u001b[0m\u001b[1;33m\u001b[0m\u001b[1;33m\u001b[0m\u001b[1;33m\u001b[0m\u001b[0m\n\u001b[0;32m     36\u001b[0m     \u001b[0mevent_log\u001b[0m \u001b[1;33m=\u001b[0m \u001b[0mEventLog\u001b[0m\u001b[1;33m(\u001b[0m\u001b[0mfile_name\u001b[0m\u001b[1;33m,\u001b[0m \u001b[0mcase_attributes\u001b[0m\u001b[1;33m=\u001b[0m\u001b[0mcase_attributes\u001b[0m\u001b[1;33m,\u001b[0m \u001b[0mevent_attributes\u001b[0m\u001b[1;33m=\u001b[0m\u001b[0mevent_attributes\u001b[0m\u001b[1;33m,\u001b[0m \u001b[0mtrue_cluster_label\u001b[0m\u001b[1;33m=\u001b[0m\u001b[0mtrue_cluster_label\u001b[0m\u001b[1;33m)\u001b[0m\u001b[1;33m\u001b[0m\u001b[1;33m\u001b[0m\u001b[0m\n\u001b[1;32m---> 37\u001b[1;33m     \u001b[0mevent_log\u001b[0m\u001b[1;33m.\u001b[0m\u001b[0mload\u001b[0m\u001b[1;33m(\u001b[0m\u001b[0mevent_log_path\u001b[0m\u001b[1;33m,\u001b[0m \u001b[1;32mFalse\u001b[0m\u001b[1;33m)\u001b[0m\u001b[1;33m\u001b[0m\u001b[1;33m\u001b[0m\u001b[0m\n\u001b[0m\u001b[0;32m     38\u001b[0m     \u001b[0mevent_log\u001b[0m\u001b[1;33m.\u001b[0m\u001b[0mpreprocess\u001b[0m\u001b[1;33m(\u001b[0m\u001b[1;33m)\u001b[0m\u001b[1;33m\u001b[0m\u001b[1;33m\u001b[0m\u001b[0m\n\u001b[0;32m     39\u001b[0m \u001b[1;33m\u001b[0m\u001b[0m\n",
      "\u001b[1;32mc:\\users\\jostm7\\desktop\\uni mannheim\\2. semester\\advanced process mining\\projekt\\deep-trace-clustering\\replearn\\eventlog.py\u001b[0m in \u001b[0;36mload\u001b[1;34m(self, file_name, sort, filter_start_activities, filter_end_activities)\u001b[0m\n\u001b[0;32m     46\u001b[0m         \"\"\"\n\u001b[0;32m     47\u001b[0m         \u001b[1;32mif\u001b[0m \u001b[0mfile_name\u001b[0m\u001b[1;33m.\u001b[0m\u001b[0mendswith\u001b[0m\u001b[1;33m(\u001b[0m\u001b[1;34m'.json.gz'\u001b[0m\u001b[1;33m)\u001b[0m\u001b[1;33m:\u001b[0m\u001b[1;33m\u001b[0m\u001b[1;33m\u001b[0m\u001b[0m\n\u001b[1;32m---> 48\u001b[1;33m             \u001b[0mself\u001b[0m\u001b[1;33m.\u001b[0m\u001b[0mload_from_json\u001b[0m\u001b[1;33m(\u001b[0m\u001b[0mfile_name\u001b[0m\u001b[1;33m,\u001b[0m \u001b[0mfilter_start_activities\u001b[0m\u001b[1;33m,\u001b[0m \u001b[0mfilter_end_activities\u001b[0m\u001b[1;33m)\u001b[0m\u001b[1;33m\u001b[0m\u001b[1;33m\u001b[0m\u001b[0m\n\u001b[0m\u001b[0;32m     49\u001b[0m         \u001b[1;32melse\u001b[0m\u001b[1;33m:\u001b[0m\u001b[1;33m\u001b[0m\u001b[1;33m\u001b[0m\u001b[0m\n\u001b[0;32m     50\u001b[0m             \u001b[0mself\u001b[0m\u001b[1;33m.\u001b[0m\u001b[0mload_from_xes\u001b[0m\u001b[1;33m(\u001b[0m\u001b[0mfile_name\u001b[0m\u001b[1;33m,\u001b[0m \u001b[0msort\u001b[0m\u001b[1;33m,\u001b[0m \u001b[0mfilter_start_activities\u001b[0m\u001b[1;33m,\u001b[0m \u001b[0mfilter_end_activities\u001b[0m\u001b[1;33m)\u001b[0m\u001b[1;33m\u001b[0m\u001b[1;33m\u001b[0m\u001b[0m\n",
      "\u001b[1;32mc:\\users\\jostm7\\desktop\\uni mannheim\\2. semester\\advanced process mining\\projekt\\deep-trace-clustering\\replearn\\eventlog.py\u001b[0m in \u001b[0;36mload_from_json\u001b[1;34m(self, file_name, filter_start_activities, filter_end_activities)\u001b[0m\n\u001b[0;32m     73\u001b[0m \u001b[1;33m\u001b[0m\u001b[0m\n\u001b[0;32m     74\u001b[0m         \u001b[1;31m# read json file\u001b[0m\u001b[1;33m\u001b[0m\u001b[1;33m\u001b[0m\u001b[1;33m\u001b[0m\u001b[0m\n\u001b[1;32m---> 75\u001b[1;33m         \u001b[1;32mfor\u001b[0m \u001b[0mtr\u001b[0m \u001b[1;32min\u001b[0m \u001b[0mjson_eventlog\u001b[0m\u001b[1;33m[\u001b[0m\u001b[1;34m'cases'\u001b[0m\u001b[1;33m]\u001b[0m\u001b[1;33m:\u001b[0m\u001b[1;33m\u001b[0m\u001b[1;33m\u001b[0m\u001b[0m\n\u001b[0m\u001b[0;32m     76\u001b[0m         \u001b[1;31m# for tr in json_eventlog['traces']:\u001b[0m\u001b[1;33m\u001b[0m\u001b[1;33m\u001b[0m\u001b[1;33m\u001b[0m\u001b[0m\n\u001b[0;32m     77\u001b[0m             \u001b[0mattr_dict\u001b[0m \u001b[1;33m=\u001b[0m \u001b[0mtr\u001b[0m\u001b[1;33m[\u001b[0m\u001b[1;34m'attributes'\u001b[0m\u001b[1;33m]\u001b[0m\u001b[1;33m\u001b[0m\u001b[1;33m\u001b[0m\u001b[0m\n",
      "\u001b[1;31mKeyError\u001b[0m: 'cases'"
     ]
    }
   ],
   "source": [
    "# get all files from Folder Iteration ending with 'json.gz'\n",
    "event_log_path = '/logs/iteration/*.json.gz'\n",
    "git_path = git.Repo(\".\", search_parent_directories=True).git.rev_parse(\"--show-toplevel\")\n",
    "final_path = git_path+event_log_path\n",
    "files = glob.glob(final_path)\n",
    "\n",
    "column_names = {    0:'Method', \n",
    "                    1:'ari',\n",
    "                    2:'nmi',\n",
    "                    3:'b3',\n",
    "                    4:'0',\n",
    "                    5:'homogeneity',\n",
    "                    6:'completeness',\n",
    "                    7:'distribution'}\n",
    "\n",
    "\n",
    "\n",
    "n = 10\n",
    "cluster = 'k_means'\n",
    "\n",
    "combined_results = pd.DataFrame()\n",
    "combined_results.rename(columns = column_names, inplace = True) \n",
    "\n",
    "for filepath in files:\n",
    "\n",
    "    # load eventlog \n",
    "    # event log configuration\n",
    "    event_log_path = filepath\n",
    "    file_name = os.path.basename(filepath)\n",
    "\n",
    "    case_attributes = None # auto-detect attributes\n",
    "    event_attributes = ['concept:name', 'user'] # use activity name and user\n",
    "    true_cluster_label = 'cluster'\n",
    "\n",
    "    # load file\n",
    "    event_log = EventLog(file_name, case_attributes=case_attributes, event_attributes=event_attributes, true_cluster_label=true_cluster_label)\n",
    "    event_log.load(event_log_path, False)\n",
    "    event_log.preprocess()\n",
    "\n",
    "\n",
    "    # hyperparameters\n",
    "    n_epochs = n\n",
    "    n_batch_size = 64\n",
    "    n_clusters = 5\n",
    "    vector_size = 32\n",
    "    cluster_method = cluster\n",
    "    hyperparameters = [n_epochs,n_batch_size,n_clusters,vector_size,cluster_method]\n",
    "    \n",
    "    # get combined results for current file and add filename as first column \n",
    "    current_combined_results = Iteration.get_combined_results(event_log,hyperparameters,column_names)\n",
    "    current_combined_results.insert(loc=0, column='Filename', value=file_name)\n",
    "\n",
    "    # add current_combined_results to overall combined results df \n",
    "    combined_results = combined_results.append(current_combined_results)\n",
    "\n",
    "combined_results.to_csv(f'tab2_2020_{cluster_method}_{n_epochs}_epochs', encoding='utf-8', index=False, sep=';')"
   ]
  }
 ],
 "metadata": {
  "interpreter": {
   "hash": "8e6a4c907d9d4f71bfd38b2a3a6a6661b67eece1ce5a60357bdd48dba7898a5a"
  },
  "kernelspec": {
   "display_name": "Python 3.7.13 ('replearn')",
   "language": "python",
   "name": "python3"
  },
  "language_info": {
   "codemirror_mode": {
    "name": "ipython",
    "version": 3
   },
   "file_extension": ".py",
   "mimetype": "text/x-python",
   "name": "python",
   "nbconvert_exporter": "python",
   "pygments_lexer": "ipython3",
   "version": "3.7.13"
  },
  "orig_nbformat": 4
 },
 "nbformat": 4,
 "nbformat_minor": 2
}
