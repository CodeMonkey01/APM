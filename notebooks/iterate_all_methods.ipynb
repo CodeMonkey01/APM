{
 "cells": [
  {
   "cell_type": "code",
   "execution_count": 3,
   "metadata": {},
   "outputs": [
    {
     "name": "stdout",
     "output_type": "stream",
     "text": [
      "The autoreload extension is already loaded. To reload it, use:\n",
      "  %reload_ext autoreload\n",
      "Collecting gitdb\n",
      "  Using cached gitdb-4.0.9-py3-none-any.whl (63 kB)\n",
      "Collecting smmap<6,>=3.0.1\n",
      "  Using cached smmap-5.0.0-py3-none-any.whl (24 kB)\n",
      "Installing collected packages: smmap, gitdb\n",
      "Successfully installed gitdb-4.0.9 smmap-5.0.0\n",
      "Note: you may need to restart the kernel to use updated packages.\n",
      "Collecting gitpython\n",
      "  Using cached GitPython-3.1.27-py3-none-any.whl (181 kB)\n",
      "Requirement already satisfied: gitdb<5,>=4.0.1 in c:\\users\\jostm7\\anaconda3\\lib\\site-packages (from gitpython) (4.0.9)\n",
      "Requirement already satisfied: smmap<6,>=3.0.1 in c:\\users\\jostm7\\anaconda3\\lib\\site-packages (from gitdb<5,>=4.0.1->gitpython) (5.0.0)\n",
      "Installing collected packages: gitpython\n",
      "Successfully installed gitpython-3.1.27\n",
      "Note: you may need to restart the kernel to use updated packages.\n"
     ]
    }
   ],
   "source": [
    "%load_ext autoreload\n",
    "%autoreload 2\n",
    "%pip install gitdb\n",
    "%pip install gitpython\n"
   ]
  },
  {
   "cell_type": "code",
   "execution_count": 1,
   "metadata": {},
   "outputs": [
    {
     "ename": "ImportError",
     "evalue": "cannot import name 'factory' from 'pm4py.objects.log.importer.xes' (C:\\Users\\Ayham\\anaconda3\\lib\\site-packages\\pm4py\\objects\\log\\importer\\xes\\__init__.py)",
     "output_type": "error",
     "traceback": [
      "\u001B[1;31m---------------------------------------------------------------------------\u001B[0m",
      "\u001B[1;31mImportError\u001B[0m                               Traceback (most recent call last)",
      "Input \u001B[1;32mIn [1]\u001B[0m, in \u001B[0;36m<cell line: 7>\u001B[1;34m()\u001B[0m\n\u001B[0;32m      5\u001B[0m \u001B[38;5;28;01mimport\u001B[39;00m \u001B[38;5;21;01mgit\u001B[39;00m\n\u001B[0;32m      6\u001B[0m \u001B[38;5;28;01mimport\u001B[39;00m \u001B[38;5;21;01mpm4py\u001B[39;00m\n\u001B[1;32m----> 7\u001B[0m \u001B[38;5;28;01mfrom\u001B[39;00m \u001B[38;5;21;01mpm4py\u001B[39;00m\u001B[38;5;21;01m.\u001B[39;00m\u001B[38;5;21;01mobjects\u001B[39;00m\u001B[38;5;21;01m.\u001B[39;00m\u001B[38;5;21;01mlog\u001B[39;00m\u001B[38;5;21;01m.\u001B[39;00m\u001B[38;5;21;01mimporter\u001B[39;00m\u001B[38;5;21;01m.\u001B[39;00m\u001B[38;5;21;01mxes\u001B[39;00m \u001B[38;5;28;01mimport\u001B[39;00m factory \u001B[38;5;28;01mas\u001B[39;00m xes_import_factory\n\u001B[0;32m      8\u001B[0m \u001B[38;5;28;01mfrom\u001B[39;00m \u001B[38;5;21;01mreplearn\u001B[39;00m\u001B[38;5;21;01m.\u001B[39;00m\u001B[38;5;21;01meventlog\u001B[39;00m \u001B[38;5;28;01mimport\u001B[39;00m EventLog \u001B[38;5;28;01mas\u001B[39;00m EventLog\n\u001B[0;32m      9\u001B[0m \u001B[38;5;28;01mfrom\u001B[39;00m \u001B[38;5;21;01mlog_iteration\u001B[39;00m \u001B[38;5;28;01mimport\u001B[39;00m Iteration\n",
      "\u001B[1;31mImportError\u001B[0m: cannot import name 'factory' from 'pm4py.objects.log.importer.xes' (C:\\Users\\Ayham\\anaconda3\\lib\\site-packages\\pm4py\\objects\\log\\importer\\xes\\__init__.py)"
     ]
    }
   ],
   "source": [
    "\n",
    "\n",
    "import numpy as np\n",
    "import pandas as pd\n",
    "import glob\n",
    "import os\n",
    "import git\n",
    "import pm4py\n",
    "from pm4py.objects.log.importer.xes import factory as xes_import_factory\n",
    "from replearn.eventlog import EventLog as EventLog\n",
    "from log_iteration import Iteration\n"
   ]
  },
  {
   "cell_type": "code",
   "execution_count": 2,
   "metadata": {},
   "outputs": [
    {
     "name": "stdout",
     "output_type": "stream",
     "text": [
      "1.5.2\n"
     ]
    }
   ],
   "source": [
    "print(pm4py.__version__)"
   ]
  },
  {
   "cell_type": "code",
   "execution_count": null,
   "metadata": {},
   "outputs": [],
   "source": [
    "%pip install pm4py == 1.\n"
   ]
  },
  {
   "cell_type": "code",
   "execution_count": null,
   "metadata": {},
   "outputs": [],
   "source": [
    "import sys\n",
    "sys.excutable"
   ]
  },
  {
   "cell_type": "code",
   "execution_count": null,
   "metadata": {},
   "outputs": [],
   "source": [
    "!pip uninstall pm4py\n"
   ]
  },
  {
   "cell_type": "code",
   "execution_count": 3,
   "metadata": {},
   "outputs": [
    {
     "ename": "KeyError",
     "evalue": "'cases'",
     "output_type": "error",
     "traceback": [
      "\u001B[1;31m---------------------------------------------------------------------------\u001B[0m",
      "\u001B[1;31mKeyError\u001B[0m                                  Traceback (most recent call last)",
      "\u001B[1;32m~\\AppData\\Local\\Temp\\ipykernel_4020\\3940485690.py\u001B[0m in \u001B[0;36m<module>\u001B[1;34m\u001B[0m\n\u001B[0;32m     35\u001B[0m     \u001B[1;31m# load file\u001B[0m\u001B[1;33m\u001B[0m\u001B[1;33m\u001B[0m\u001B[1;33m\u001B[0m\u001B[0m\n\u001B[0;32m     36\u001B[0m     \u001B[0mevent_log\u001B[0m \u001B[1;33m=\u001B[0m \u001B[0mEventLog\u001B[0m\u001B[1;33m(\u001B[0m\u001B[0mfile_name\u001B[0m\u001B[1;33m,\u001B[0m \u001B[0mcase_attributes\u001B[0m\u001B[1;33m=\u001B[0m\u001B[0mcase_attributes\u001B[0m\u001B[1;33m,\u001B[0m \u001B[0mevent_attributes\u001B[0m\u001B[1;33m=\u001B[0m\u001B[0mevent_attributes\u001B[0m\u001B[1;33m,\u001B[0m \u001B[0mtrue_cluster_label\u001B[0m\u001B[1;33m=\u001B[0m\u001B[0mtrue_cluster_label\u001B[0m\u001B[1;33m)\u001B[0m\u001B[1;33m\u001B[0m\u001B[1;33m\u001B[0m\u001B[0m\n\u001B[1;32m---> 37\u001B[1;33m     \u001B[0mevent_log\u001B[0m\u001B[1;33m.\u001B[0m\u001B[0mload\u001B[0m\u001B[1;33m(\u001B[0m\u001B[0mevent_log_path\u001B[0m\u001B[1;33m,\u001B[0m \u001B[1;32mFalse\u001B[0m\u001B[1;33m)\u001B[0m\u001B[1;33m\u001B[0m\u001B[1;33m\u001B[0m\u001B[0m\n\u001B[0m\u001B[0;32m     38\u001B[0m     \u001B[0mevent_log\u001B[0m\u001B[1;33m.\u001B[0m\u001B[0mpreprocess\u001B[0m\u001B[1;33m(\u001B[0m\u001B[1;33m)\u001B[0m\u001B[1;33m\u001B[0m\u001B[1;33m\u001B[0m\u001B[0m\n\u001B[0;32m     39\u001B[0m \u001B[1;33m\u001B[0m\u001B[0m\n",
      "\u001B[1;32mc:\\users\\jostm7\\desktop\\uni mannheim\\2. semester\\advanced process mining\\projekt\\deep-trace-clustering\\replearn\\eventlog.py\u001B[0m in \u001B[0;36mload\u001B[1;34m(self, file_name, sort, filter_start_activities, filter_end_activities)\u001B[0m\n\u001B[0;32m     46\u001B[0m         \"\"\"\n\u001B[0;32m     47\u001B[0m         \u001B[1;32mif\u001B[0m \u001B[0mfile_name\u001B[0m\u001B[1;33m.\u001B[0m\u001B[0mendswith\u001B[0m\u001B[1;33m(\u001B[0m\u001B[1;34m'.json.gz'\u001B[0m\u001B[1;33m)\u001B[0m\u001B[1;33m:\u001B[0m\u001B[1;33m\u001B[0m\u001B[1;33m\u001B[0m\u001B[0m\n\u001B[1;32m---> 48\u001B[1;33m             \u001B[0mself\u001B[0m\u001B[1;33m.\u001B[0m\u001B[0mload_from_json\u001B[0m\u001B[1;33m(\u001B[0m\u001B[0mfile_name\u001B[0m\u001B[1;33m,\u001B[0m \u001B[0mfilter_start_activities\u001B[0m\u001B[1;33m,\u001B[0m \u001B[0mfilter_end_activities\u001B[0m\u001B[1;33m)\u001B[0m\u001B[1;33m\u001B[0m\u001B[1;33m\u001B[0m\u001B[0m\n\u001B[0m\u001B[0;32m     49\u001B[0m         \u001B[1;32melse\u001B[0m\u001B[1;33m:\u001B[0m\u001B[1;33m\u001B[0m\u001B[1;33m\u001B[0m\u001B[0m\n\u001B[0;32m     50\u001B[0m             \u001B[0mself\u001B[0m\u001B[1;33m.\u001B[0m\u001B[0mload_from_xes\u001B[0m\u001B[1;33m(\u001B[0m\u001B[0mfile_name\u001B[0m\u001B[1;33m,\u001B[0m \u001B[0msort\u001B[0m\u001B[1;33m,\u001B[0m \u001B[0mfilter_start_activities\u001B[0m\u001B[1;33m,\u001B[0m \u001B[0mfilter_end_activities\u001B[0m\u001B[1;33m)\u001B[0m\u001B[1;33m\u001B[0m\u001B[1;33m\u001B[0m\u001B[0m\n",
      "\u001B[1;32mc:\\users\\jostm7\\desktop\\uni mannheim\\2. semester\\advanced process mining\\projekt\\deep-trace-clustering\\replearn\\eventlog.py\u001B[0m in \u001B[0;36mload_from_json\u001B[1;34m(self, file_name, filter_start_activities, filter_end_activities)\u001B[0m\n\u001B[0;32m     73\u001B[0m \u001B[1;33m\u001B[0m\u001B[0m\n\u001B[0;32m     74\u001B[0m         \u001B[1;31m# read json file\u001B[0m\u001B[1;33m\u001B[0m\u001B[1;33m\u001B[0m\u001B[1;33m\u001B[0m\u001B[0m\n\u001B[1;32m---> 75\u001B[1;33m         \u001B[1;32mfor\u001B[0m \u001B[0mtr\u001B[0m \u001B[1;32min\u001B[0m \u001B[0mjson_eventlog\u001B[0m\u001B[1;33m[\u001B[0m\u001B[1;34m'cases'\u001B[0m\u001B[1;33m]\u001B[0m\u001B[1;33m:\u001B[0m\u001B[1;33m\u001B[0m\u001B[1;33m\u001B[0m\u001B[0m\n\u001B[0m\u001B[0;32m     76\u001B[0m         \u001B[1;31m# for tr in json_eventlog['traces']:\u001B[0m\u001B[1;33m\u001B[0m\u001B[1;33m\u001B[0m\u001B[1;33m\u001B[0m\u001B[0m\n\u001B[0;32m     77\u001B[0m             \u001B[0mattr_dict\u001B[0m \u001B[1;33m=\u001B[0m \u001B[0mtr\u001B[0m\u001B[1;33m[\u001B[0m\u001B[1;34m'attributes'\u001B[0m\u001B[1;33m]\u001B[0m\u001B[1;33m\u001B[0m\u001B[1;33m\u001B[0m\u001B[0m\n",
      "\u001B[1;31mKeyError\u001B[0m: 'cases'"
     ]
    }
   ],
   "source": [
    "\n",
    "# get all files from Folder Iteration ending with 'json.gz'\n",
    "event_log_path = '/logs/iteration/*.json.gz'\n",
    "git_path = git.Repo(\".\", search_parent_directories=True).git.rev_parse(\"--show-toplevel\")\n",
    "final_path = git_path+event_log_path\n",
    "files = glob.glob(final_path)\n",
    "\n",
    "column_names = {    0:'Method', \n",
    "                    1:'ari',\n",
    "                    2:'nmi',\n",
    "                    3:'b3',\n",
    "                    4:'0',\n",
    "                    5:'homogeneity',\n",
    "                    6:'completeness',\n",
    "                    7:'distribution'}\n",
    "\n",
    "\n",
    "\n",
    "n = 10\n",
    "cluster = 'k_means'\n",
    "\n",
    "combined_results = pd.DataFrame()\n",
    "combined_results.rename(columns = column_names, inplace = True) \n",
    "\n",
    "for filepath in files:\n",
    "\n",
    "    # load eventlog \n",
    "    # event log configuration\n",
    "    event_log_path = filepath\n",
    "    file_name = os.path.basename(filepath)\n",
    "\n",
    "    case_attributes = None # auto-detect attributes\n",
    "    event_attributes = ['concept:name', 'user'] # use activity name and user\n",
    "    true_cluster_label = 'cluster'\n",
    "\n",
    "    # load file\n",
    "    event_log = EventLog(file_name, case_attributes=case_attributes, event_attributes=event_attributes, true_cluster_label=true_cluster_label)\n",
    "    event_log.load(event_log_path, False)\n",
    "    event_log.preprocess()\n",
    "\n",
    "\n",
    "    # hyperparameters\n",
    "    n_epochs = n\n",
    "    n_batch_size = 64\n",
    "    n_clusters = 5\n",
    "    vector_size = 32\n",
    "    cluster_method = cluster\n",
    "    hyperparameters = [n_epochs,n_batch_size,n_clusters,vector_size,cluster_method]\n",
    "    \n",
    "    # get combined results for current file and add filename as first column \n",
    "    current_combined_results = Iteration.get_combined_results(event_log,hyperparameters,column_names)\n",
    "    current_combined_results.insert(loc=0, column='Filename', value=file_name)\n",
    "\n",
    "    # add current_combined_results to overall combined results df \n",
    "    combined_results = combined_results.append(current_combined_results)\n",
    "\n",
    "combined_results.to_csv(f'tab2_2020_{cluster_method}_{n_epochs}_epochs', encoding='utf-8', index=False, sep=';')\n"
   ]
  },
  {
   "cell_type": "code",
   "execution_count": null,
   "metadata": {},
   "outputs": [],
   "source": [
    "combined_results"
   ]
  },
  {
   "cell_type": "code",
   "execution_count": null,
   "metadata": {},
   "outputs": [],
   "source": []
  }
 ],
 "metadata": {
  "interpreter": {
   "hash": "8e6a4c907d9d4f71bfd38b2a3a6a6661b67eece1ce5a60357bdd48dba7898a5a"
  },
  "kernelspec": {
   "display_name": "Python 3",
   "language": "python",
   "name": "python3"
  },
  "language_info": {
   "codemirror_mode": {
    "name": "ipython",
    "version": 3
   },
   "file_extension": ".py",
   "mimetype": "text/x-python",
   "name": "python",
   "nbconvert_exporter": "python",
   "pygments_lexer": "ipython3",
   "version": "3.7.13"
  }
 },
 "nbformat": 4,
 "nbformat_minor": 2
}