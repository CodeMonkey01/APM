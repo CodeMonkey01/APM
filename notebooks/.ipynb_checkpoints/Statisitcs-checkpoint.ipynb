{
 "cells": [
  {
   "cell_type": "code",
   "execution_count": 2,
   "id": "a0a1b2c2",
   "metadata": {},
   "outputs": [],
   "source": [
    "from scipy import stats \n",
    "import pandas as pd\n",
    "import statistics\n",
    "import numpy as np\n",
    "import glob\n",
    "import os\n",
    "import git"
   ]
  },
  {
   "cell_type": "code",
   "execution_count": 2,
   "id": "fe21aeac",
   "metadata": {},
   "outputs": [
    {
     "data": {
      "text/html": [
       "<div>\n",
       "<style scoped>\n",
       "    .dataframe tbody tr th:only-of-type {\n",
       "        vertical-align: middle;\n",
       "    }\n",
       "\n",
       "    .dataframe tbody tr th {\n",
       "        vertical-align: top;\n",
       "    }\n",
       "\n",
       "    .dataframe thead th {\n",
       "        text-align: right;\n",
       "    }\n",
       "</style>\n",
       "<table border=\"1\" class=\"dataframe\">\n",
       "  <thead>\n",
       "    <tr style=\"text-align: right;\">\n",
       "      <th></th>\n",
       "      <th>Filename</th>\n",
       "      <th>Method</th>\n",
       "      <th>ari</th>\n",
       "      <th>nmi</th>\n",
       "      <th>b3</th>\n",
       "      <th>0</th>\n",
       "      <th>homogeneity</th>\n",
       "      <th>completeness</th>\n",
       "      <th>distribution</th>\n",
       "    </tr>\n",
       "  </thead>\n",
       "  <tbody>\n",
       "    <tr>\n",
       "      <th>0</th>\n",
       "      <td>huge-0.0-1000-10.json.gz</td>\n",
       "      <td>Autoencoder</td>\n",
       "      <td>0.143437</td>\n",
       "      <td>0.272746</td>\n",
       "      <td>0.350156</td>\n",
       "      <td>0</td>\n",
       "      <td>0.263343</td>\n",
       "      <td>0.282845</td>\n",
       "      <td>{1: 270, 2: 261, 3: 246, 4: 38, 5: 185}</td>\n",
       "    </tr>\n",
       "    <tr>\n",
       "      <th>1</th>\n",
       "      <td>huge-0.0-1000-10.json.gz</td>\n",
       "      <td>TRACE2VEC</td>\n",
       "      <td>0.179036</td>\n",
       "      <td>0.342470</td>\n",
       "      <td>0.384194</td>\n",
       "      <td>0</td>\n",
       "      <td>0.335303</td>\n",
       "      <td>0.349951</td>\n",
       "      <td>{1: 270, 2: 67, 3: 184, 4: 261, 5: 218}</td>\n",
       "    </tr>\n",
       "    <tr>\n",
       "      <th>2</th>\n",
       "      <td>huge-0.0-1000-10.json.gz</td>\n",
       "      <td>CASE2VEC E</td>\n",
       "      <td>0.118269</td>\n",
       "      <td>0.262103</td>\n",
       "      <td>0.368972</td>\n",
       "      <td>0</td>\n",
       "      <td>0.248436</td>\n",
       "      <td>0.277362</td>\n",
       "      <td>{1: 270, 2: 86, 3: 261, 4: 49, 5: 334}</td>\n",
       "    </tr>\n",
       "    <tr>\n",
       "      <th>3</th>\n",
       "      <td>huge-0.0-1000-10.json.gz</td>\n",
       "      <td>CASE2VEC E+C</td>\n",
       "      <td>-0.002743</td>\n",
       "      <td>0.017894</td>\n",
       "      <td>0.306280</td>\n",
       "      <td>0</td>\n",
       "      <td>0.013807</td>\n",
       "      <td>0.025418</td>\n",
       "      <td>{1: 702, 2: 16, 3: 73, 4: 8, 5: 201}</td>\n",
       "    </tr>\n",
       "    <tr>\n",
       "      <th>4</th>\n",
       "      <td>huge-0.0-1000-10.json.gz</td>\n",
       "      <td>GRU</td>\n",
       "      <td>1.000000</td>\n",
       "      <td>1.000000</td>\n",
       "      <td>1.000000</td>\n",
       "      <td>0</td>\n",
       "      <td>1.000000</td>\n",
       "      <td>1.000000</td>\n",
       "      <td>{1: 148, 2: 252, 3: 207, 4: 199, 5: 194}</td>\n",
       "    </tr>\n",
       "    <tr>\n",
       "      <th>...</th>\n",
       "      <td>...</td>\n",
       "      <td>...</td>\n",
       "      <td>...</td>\n",
       "      <td>...</td>\n",
       "      <td>...</td>\n",
       "      <td>...</td>\n",
       "      <td>...</td>\n",
       "      <td>...</td>\n",
       "      <td>...</td>\n",
       "    </tr>\n",
       "    <tr>\n",
       "      <th>4747</th>\n",
       "      <td>wide_500_10_20_5_3_1-1.0-1.json.gz</td>\n",
       "      <td>TRACE2VEC</td>\n",
       "      <td>0.233902</td>\n",
       "      <td>0.351575</td>\n",
       "      <td>0.466278</td>\n",
       "      <td>0</td>\n",
       "      <td>0.361346</td>\n",
       "      <td>0.342319</td>\n",
       "      <td>{0: 199, 1: 58, 2: 132, 3: 60, 4: 51}</td>\n",
       "    </tr>\n",
       "    <tr>\n",
       "      <th>4748</th>\n",
       "      <td>wide_500_10_20_5_3_1-1.0-1.json.gz</td>\n",
       "      <td>CASE2VEC E</td>\n",
       "      <td>0.276494</td>\n",
       "      <td>0.437196</td>\n",
       "      <td>0.501833</td>\n",
       "      <td>0</td>\n",
       "      <td>0.450830</td>\n",
       "      <td>0.424363</td>\n",
       "      <td>{0: 109, 1: 201, 2: 92, 3: 46, 4: 52}</td>\n",
       "    </tr>\n",
       "    <tr>\n",
       "      <th>4749</th>\n",
       "      <td>wide_500_10_20_5_3_1-1.0-1.json.gz</td>\n",
       "      <td>CASE2VEC E+C</td>\n",
       "      <td>-0.003398</td>\n",
       "      <td>0.018675</td>\n",
       "      <td>0.306916</td>\n",
       "      <td>0</td>\n",
       "      <td>0.016943</td>\n",
       "      <td>0.020801</td>\n",
       "      <td>{0: 145, 1: 3, 2: 227, 3: 122, 4: 3}</td>\n",
       "    </tr>\n",
       "    <tr>\n",
       "      <th>4750</th>\n",
       "      <td>wide_500_10_20_5_3_1-1.0-1.json.gz</td>\n",
       "      <td>GRU</td>\n",
       "      <td>0.910745</td>\n",
       "      <td>0.931227</td>\n",
       "      <td>0.931104</td>\n",
       "      <td>0</td>\n",
       "      <td>0.985094</td>\n",
       "      <td>0.882946</td>\n",
       "      <td>{0: 111, 1: 162, 2: 85, 3: 47, 4: 95}</td>\n",
       "    </tr>\n",
       "    <tr>\n",
       "      <th>4751</th>\n",
       "      <td>wide_500_10_20_5_3_1-1.0-1.json.gz</td>\n",
       "      <td>LSTM</td>\n",
       "      <td>0.910453</td>\n",
       "      <td>0.925710</td>\n",
       "      <td>0.931680</td>\n",
       "      <td>0</td>\n",
       "      <td>0.976071</td>\n",
       "      <td>0.880292</td>\n",
       "      <td>{0: 163, 1: 95, 2: 90, 3: 111, 4: 41}</td>\n",
       "    </tr>\n",
       "  </tbody>\n",
       "</table>\n",
       "<p>24264 rows × 9 columns</p>\n",
       "</div>"
      ],
      "text/plain": [
       "                                Filename        Method       ari       nmi  \\\n",
       "0               huge-0.0-1000-10.json.gz   Autoencoder  0.143437  0.272746   \n",
       "1               huge-0.0-1000-10.json.gz     TRACE2VEC  0.179036  0.342470   \n",
       "2               huge-0.0-1000-10.json.gz    CASE2VEC E  0.118269  0.262103   \n",
       "3               huge-0.0-1000-10.json.gz  CASE2VEC E+C -0.002743  0.017894   \n",
       "4               huge-0.0-1000-10.json.gz           GRU  1.000000  1.000000   \n",
       "...                                  ...           ...       ...       ...   \n",
       "4747  wide_500_10_20_5_3_1-1.0-1.json.gz     TRACE2VEC  0.233902  0.351575   \n",
       "4748  wide_500_10_20_5_3_1-1.0-1.json.gz    CASE2VEC E  0.276494  0.437196   \n",
       "4749  wide_500_10_20_5_3_1-1.0-1.json.gz  CASE2VEC E+C -0.003398  0.018675   \n",
       "4750  wide_500_10_20_5_3_1-1.0-1.json.gz           GRU  0.910745  0.931227   \n",
       "4751  wide_500_10_20_5_3_1-1.0-1.json.gz          LSTM  0.910453  0.925710   \n",
       "\n",
       "            b3  0  homogeneity  completeness  \\\n",
       "0     0.350156  0     0.263343      0.282845   \n",
       "1     0.384194  0     0.335303      0.349951   \n",
       "2     0.368972  0     0.248436      0.277362   \n",
       "3     0.306280  0     0.013807      0.025418   \n",
       "4     1.000000  0     1.000000      1.000000   \n",
       "...        ... ..          ...           ...   \n",
       "4747  0.466278  0     0.361346      0.342319   \n",
       "4748  0.501833  0     0.450830      0.424363   \n",
       "4749  0.306916  0     0.016943      0.020801   \n",
       "4750  0.931104  0     0.985094      0.882946   \n",
       "4751  0.931680  0     0.976071      0.880292   \n",
       "\n",
       "                                  distribution  \n",
       "0      {1: 270, 2: 261, 3: 246, 4: 38, 5: 185}  \n",
       "1      {1: 270, 2: 67, 3: 184, 4: 261, 5: 218}  \n",
       "2       {1: 270, 2: 86, 3: 261, 4: 49, 5: 334}  \n",
       "3         {1: 702, 2: 16, 3: 73, 4: 8, 5: 201}  \n",
       "4     {1: 148, 2: 252, 3: 207, 4: 199, 5: 194}  \n",
       "...                                        ...  \n",
       "4747     {0: 199, 1: 58, 2: 132, 3: 60, 4: 51}  \n",
       "4748     {0: 109, 1: 201, 2: 92, 3: 46, 4: 52}  \n",
       "4749      {0: 145, 1: 3, 2: 227, 3: 122, 4: 3}  \n",
       "4750     {0: 111, 1: 162, 2: 85, 3: 47, 4: 95}  \n",
       "4751     {0: 163, 1: 95, 2: 90, 3: 111, 4: 41}  \n",
       "\n",
       "[24264 rows x 9 columns]"
      ]
     },
     "execution_count": 2,
     "metadata": {},
     "output_type": "execute_result"
    }
   ],
   "source": [
    "# get all files from Folder Iteration ending with 'json.gz'\n",
    "event_log_path = '/logs/finished/*.csv'\n",
    "git_path = git.Repo(\".\", search_parent_directories=True).git.rev_parse(\"--show-toplevel\")\n",
    "final_path = git_path+event_log_path\n",
    "files = glob.glob(final_path)\n",
    "\n",
    "output_df = pd.DataFrame(columns= ['Filename', 'Method', 'ari', 'nmi', 'b3', '0', 'homogeneity',\n",
    "       'completeness', 'distribution'])\n",
    "\n",
    "for filepath in files:\n",
    "\n",
    "    # load eventlog \n",
    "    # event log configuration\n",
    "    \n",
    "    event_log_path = filepath\n",
    "    file_name = os.path.basename(filepath)\n",
    "    df = pd.read_csv(filepath, sep=';')\n",
    "\n",
    "    ds_year = file_name.split(\"_\")[1]\n",
    "    cluster = file_name.split(\"_\")[2]\n",
    "    if cluster == \"k\" : cluster = \"k_means\"\n",
    "    epochs = file_name.split(\"_\")[-2]\n",
    "\n",
    "    output_df = output_df.append(df)\n",
    "\n",
    "output_df"
   ]
  },
  {
   "cell_type": "code",
   "execution_count": 21,
   "id": "a235e85b",
   "metadata": {},
   "outputs": [
    {
     "data": {
      "text/plain": [
       "array(['Autoencoder', 'TRACE2VEC', 'CASE2VEC E', 'CASE2VEC E+C', 'GRU',\n",
       "       'LSTM'], dtype=object)"
      ]
     },
     "execution_count": 21,
     "metadata": {},
     "output_type": "execute_result"
    }
   ],
   "source": [
    "output_df['Method'].unique()"
   ]
  },
  {
   "cell_type": "code",
   "execution_count": 22,
   "id": "1bafa67a",
   "metadata": {},
   "outputs": [],
   "source": [
    "\n",
    "\n",
    "filtered_df = output_df[output_df['Method']==\"Autoencoder\"]\n",
    "group_autoencoder = filtered_df['b3'].tolist()\n",
    "filtered_df = output_df[output_df['Method']==\"TRACE2VEC\"]\n",
    "group_TRACE2VEC = filtered_df['b3'].tolist()\n",
    "filtered_df = output_df[output_df['Method']==\"CASE2VEC E\"]\n",
    "group_CASE2VEC_E = filtered_df['b3'].tolist()\n",
    "filtered_df = output_df[output_df['Method']==\"CASE2VEC E+C\"]\n",
    "group_CASE2VEC_E_C = filtered_df['b3'].tolist()\n",
    "filtered_df = output_df[output_df['Method']==\"GRU\"]\n",
    "group_GRU = filtered_df['b3'].tolist()\n",
    "filtered_df = output_df[output_df['Method']==\"LSTM\"]\n",
    "group_LSTM = filtered_df['b3'].tolist()\n",
    "\n",
    "\n"
   ]
  },
  {
   "cell_type": "code",
   "execution_count": 9,
   "id": "d06319c8",
   "metadata": {},
   "outputs": [
    {
     "data": {
      "text/plain": [
       "6"
      ]
     },
     "execution_count": 9,
     "metadata": {},
     "output_type": "execute_result"
    }
   ],
   "source": [
    "len(output_df['Method'].unique())"
   ]
  },
  {
   "cell_type": "code",
   "execution_count": 4,
   "id": "216212fd",
   "metadata": {},
   "outputs": [],
   "source": [
    "group1 = [7, 9, 10, 18, 4, 4, 6, 27, 4, 3, 2, 18, 7, 6, 12]\n",
    "group2 = [12, 6, 3, 7, 8, 0, 1, 8, 7, 7, 2, 4, 6, 4, 5]\n",
    "group3 = [21, 41, 41, 31, 2, 2, 11, 4, 31, 2, 91, 1, 2, 31, 4]\n",
    "group4 = [2, 3, 4, 3, 0, 0, 1, 4, 1, 2, 3, 1, 6, 3, 5]"
   ]
  },
  {
   "cell_type": "markdown",
   "id": "11e3bcab",
   "metadata": {},
   "source": [
    "## Friedman"
   ]
  },
  {
   "cell_type": "code",
   "execution_count": 23,
   "id": "4c9de859",
   "metadata": {},
   "outputs": [
    {
     "data": {
      "text/plain": [
       "FriedmanchisquareResult(statistic=15432.447768618533, pvalue=0.0)"
      ]
     },
     "execution_count": 23,
     "metadata": {},
     "output_type": "execute_result"
    }
   ],
   "source": [
    "# check if Friedman test indicates significance\n",
    "# Null Hypothesis: The mean for each population is equal. -> no significant differenc would mean that approaches are the same\n",
    "# p-value has to be smaller than 0,05 to reject the Null Hypothesis\n",
    "\n",
    "from scipy.stats import friedmanchisquare\n",
    "friedman = friedmanchisquare(group_autoencoder, group_CASE2VEC_E, group_CASE2VEC_E_C, group_GRU,group_TRACE2VEC,group_LSTM)\n",
    "friedman\n",
    "# I guess p value should be smaller than 0,05 to see a significant difference in the data "
   ]
  },
  {
   "cell_type": "markdown",
   "id": "3bba2ba1",
   "metadata": {},
   "source": [
    "## Bonferroni Corrected P value"
   ]
  },
  {
   "cell_type": "code",
   "execution_count": 24,
   "id": "a0af0df6",
   "metadata": {},
   "outputs": [
    {
     "ename": "ModuleNotFoundError",
     "evalue": "No module named 'statsmodels'",
     "output_type": "error",
     "traceback": [
      "\u001b[1;31m---------------------------------------------------------------------------\u001b[0m",
      "\u001b[1;31mModuleNotFoundError\u001b[0m                       Traceback (most recent call last)",
      "\u001b[1;32m~\\AppData\\Local\\Temp\\ipykernel_1080\\4226888443.py\u001b[0m in \u001b[0;36m<module>\u001b[1;34m\u001b[0m\n\u001b[1;32m----> 1\u001b[1;33m \u001b[1;32mfrom\u001b[0m \u001b[0mstatsmodels\u001b[0m\u001b[1;33m.\u001b[0m\u001b[0msandbox\u001b[0m\u001b[1;33m.\u001b[0m\u001b[0mstats\u001b[0m\u001b[1;33m.\u001b[0m\u001b[0mmulticomp\u001b[0m \u001b[1;32mimport\u001b[0m \u001b[0mmultipletests\u001b[0m\u001b[1;33m\u001b[0m\u001b[1;33m\u001b[0m\u001b[0m\n\u001b[0m\u001b[0;32m      2\u001b[0m \u001b[0mp_adjusted\u001b[0m \u001b[1;33m=\u001b[0m \u001b[0mmultipletests\u001b[0m\u001b[1;33m(\u001b[0m\u001b[0mpval\u001b[0m\u001b[1;33m,\u001b[0m \u001b[0malpha\u001b[0m\u001b[1;33m=\u001b[0m\u001b[1;36m0.05\u001b[0m\u001b[1;33m,\u001b[0m \u001b[0mmethod\u001b[0m\u001b[1;33m=\u001b[0m\u001b[1;34m'bonferroni'\u001b[0m\u001b[1;33m)\u001b[0m\u001b[1;33m\u001b[0m\u001b[1;33m\u001b[0m\u001b[0m\n\u001b[0;32m      3\u001b[0m \u001b[0mprint\u001b[0m\u001b[1;33m(\u001b[0m\u001b[0mp_adjusted\u001b[0m\u001b[1;33m[\u001b[0m\u001b[1;36m1\u001b[0m\u001b[1;33m]\u001b[0m\u001b[1;33m)\u001b[0m\u001b[1;33m\u001b[0m\u001b[1;33m\u001b[0m\u001b[0m\n",
      "\u001b[1;31mModuleNotFoundError\u001b[0m: No module named 'statsmodels'"
     ]
    }
   ],
   "source": [
    "from statsmodels.sandbox.stats.multicomp import multipletests\n",
    "p_adjusted = multipletests(pval, alpha=0.05, method='bonferroni')\n",
    "print(p_adjusted[1])"
   ]
  },
  {
   "cell_type": "markdown",
   "id": "6e464338",
   "metadata": {},
   "source": [
    "## Wilcoxon signed rank test"
   ]
  },
  {
   "cell_type": "code",
   "execution_count": null,
   "id": "5b917a86",
   "metadata": {},
   "outputs": [
    {
     "name": "stdout",
     "output_type": "stream",
     "text": [
      "Collecting scikit-posthocs\n",
      "  Downloading scikit_posthocs-0.7.0-py3-none-any.whl (38 kB)\n",
      "Requirement already satisfied: numpy in /Users/juliusdollinger/opt/anaconda3/lib/python3.8/site-packages (from scikit-posthocs) (1.21.2)\n",
      "Requirement already satisfied: seaborn in /Users/juliusdollinger/opt/anaconda3/lib/python3.8/site-packages (from scikit-posthocs) (0.11.1)\n",
      "Requirement already satisfied: matplotlib in /Users/juliusdollinger/opt/anaconda3/lib/python3.8/site-packages (from scikit-posthocs) (3.3.4)\n",
      "Requirement already satisfied: scipy in /Users/juliusdollinger/opt/anaconda3/lib/python3.8/site-packages (from scikit-posthocs) (1.6.2)\n",
      "Requirement already satisfied: pandas>=0.20.0 in /Users/juliusdollinger/opt/anaconda3/lib/python3.8/site-packages (from scikit-posthocs) (1.2.2)\n",
      "Requirement already satisfied: statsmodels in /Users/juliusdollinger/opt/anaconda3/lib/python3.8/site-packages (from scikit-posthocs) (0.12.2)\n",
      "Requirement already satisfied: pytz>=2017.3 in /Users/juliusdollinger/opt/anaconda3/lib/python3.8/site-packages (from pandas>=0.20.0->scikit-posthocs) (2021.1)\n",
      "Requirement already satisfied: python-dateutil>=2.7.3 in /Users/juliusdollinger/opt/anaconda3/lib/python3.8/site-packages (from pandas>=0.20.0->scikit-posthocs) (2.8.1)\n",
      "Requirement already satisfied: six>=1.5 in /Users/juliusdollinger/opt/anaconda3/lib/python3.8/site-packages (from python-dateutil>=2.7.3->pandas>=0.20.0->scikit-posthocs) (1.15.0)\n",
      "Requirement already satisfied: cycler>=0.10 in /Users/juliusdollinger/opt/anaconda3/lib/python3.8/site-packages (from matplotlib->scikit-posthocs) (0.10.0)\n",
      "Requirement already satisfied: pillow>=6.2.0 in /Users/juliusdollinger/opt/anaconda3/lib/python3.8/site-packages (from matplotlib->scikit-posthocs) (8.2.0)\n",
      "Requirement already satisfied: kiwisolver>=1.0.1 in /Users/juliusdollinger/opt/anaconda3/lib/python3.8/site-packages (from matplotlib->scikit-posthocs) (1.3.1)\n",
      "Requirement already satisfied: pyparsing!=2.0.4,!=2.1.2,!=2.1.6,>=2.0.3 in /Users/juliusdollinger/opt/anaconda3/lib/python3.8/site-packages (from matplotlib->scikit-posthocs) (2.4.7)\n",
      "Requirement already satisfied: patsy>=0.5 in /Users/juliusdollinger/opt/anaconda3/lib/python3.8/site-packages (from statsmodels->scikit-posthocs) (0.5.1)\n",
      "Installing collected packages: scikit-posthocs\n",
      "Successfully installed scikit-posthocs-0.7.0\n"
     ]
    }
   ],
   "source": [
    "!pip install scikit-posthocs"
   ]
  },
  {
   "cell_type": "code",
   "execution_count": null,
   "id": "6ce9bcb4",
   "metadata": {},
   "outputs": [
    {
     "name": "stderr",
     "output_type": "stream",
     "text": [
      "/Users/juliusdollinger/opt/anaconda3/lib/python3.8/site-packages/scipy/stats/morestats.py:2967: UserWarning: Exact p-value calculation does not work if there are ties. Switching to normal approximation.\n",
      "  warnings.warn(\"Exact p-value calculation does not work if there are \"\n"
     ]
    },
    {
     "data": {
      "text/html": [
       "<div>\n",
       "<style scoped>\n",
       "    .dataframe tbody tr th:only-of-type {\n",
       "        vertical-align: middle;\n",
       "    }\n",
       "\n",
       "    .dataframe tbody tr th {\n",
       "        vertical-align: top;\n",
       "    }\n",
       "\n",
       "    .dataframe thead th {\n",
       "        text-align: right;\n",
       "    }\n",
       "</style>\n",
       "<table border=\"1\" class=\"dataframe\">\n",
       "  <thead>\n",
       "    <tr style=\"text-align: right;\">\n",
       "      <th></th>\n",
       "      <th>1</th>\n",
       "      <th>2</th>\n",
       "      <th>3</th>\n",
       "      <th>4</th>\n",
       "    </tr>\n",
       "  </thead>\n",
       "  <tbody>\n",
       "    <tr>\n",
       "      <th>1</th>\n",
       "      <td>1.000000</td>\n",
       "      <td>0.073097</td>\n",
       "      <td>0.168823</td>\n",
       "      <td>0.000183</td>\n",
       "    </tr>\n",
       "    <tr>\n",
       "      <th>2</th>\n",
       "      <td>0.073097</td>\n",
       "      <td>1.000000</td>\n",
       "      <td>0.055359</td>\n",
       "      <td>0.009707</td>\n",
       "    </tr>\n",
       "    <tr>\n",
       "      <th>3</th>\n",
       "      <td>0.168823</td>\n",
       "      <td>0.055359</td>\n",
       "      <td>1.000000</td>\n",
       "      <td>0.007602</td>\n",
       "    </tr>\n",
       "    <tr>\n",
       "      <th>4</th>\n",
       "      <td>0.000183</td>\n",
       "      <td>0.009707</td>\n",
       "      <td>0.007602</td>\n",
       "      <td>1.000000</td>\n",
       "    </tr>\n",
       "  </tbody>\n",
       "</table>\n",
       "</div>"
      ],
      "text/plain": [
       "          1         2         3         4\n",
       "1  1.000000  0.073097  0.168823  0.000183\n",
       "2  0.073097  1.000000  0.055359  0.009707\n",
       "3  0.168823  0.055359  1.000000  0.007602\n",
       "4  0.000183  0.009707  0.007602  1.000000"
      ]
     },
     "execution_count": 48,
     "metadata": {},
     "output_type": "execute_result"
    }
   ],
   "source": [
    "import scikit_posthocs as sp\n",
    "data = [group1, group2, group3, group4]\n",
    "sp.posthoc_wilcoxon(data)"
   ]
  },
  {
   "cell_type": "markdown",
   "id": "012125a9",
   "metadata": {},
   "source": [
    "## Kendall's W"
   ]
  },
  {
   "cell_type": "code",
   "execution_count": null,
   "id": "ada4cde6",
   "metadata": {},
   "outputs": [
    {
     "name": "stdout",
     "output_type": "stream",
     "text": [
      "2.653521126760564\n"
     ]
    }
   ],
   "source": [
    "Q = friedman[0]\n",
    "n = 15 # n = number of cases i.e. number of rows\n",
    "k = 4 # k = the number of variables i.e. the numberb of columns\n",
    "\n",
    "W = (Q/n*(k-1))\n",
    "print(W)"
   ]
  },
  {
   "cell_type": "markdown",
   "id": "67b2a06b",
   "metadata": {},
   "source": [
    "## Cohen's threshold"
   ]
  },
  {
   "cell_type": "code",
   "execution_count": null,
   "id": "432ceb19",
   "metadata": {},
   "outputs": [
    {
     "ename": "TypeError",
     "evalue": "proportion_effectsize() missing 2 required positional arguments: 'prop1' and 'prop2'",
     "output_type": "error",
     "traceback": [
      "\u001b[0;31m---------------------------------------------------------------------------\u001b[0m",
      "\u001b[0;31mTypeError\u001b[0m                                 Traceback (most recent call last)",
      "\u001b[0;32m<ipython-input-34-1312db9599cf>\u001b[0m in \u001b[0;36m<module>\u001b[0;34m\u001b[0m\n\u001b[1;32m      1\u001b[0m \u001b[0;32mfrom\u001b[0m \u001b[0mstatsmodels\u001b[0m\u001b[0;34m.\u001b[0m\u001b[0mstats\u001b[0m\u001b[0;34m.\u001b[0m\u001b[0mproportion\u001b[0m \u001b[0;32mimport\u001b[0m \u001b[0mproportion_effectsize\u001b[0m\u001b[0;34m\u001b[0m\u001b[0;34m\u001b[0m\u001b[0m\n\u001b[0;32m----> 2\u001b[0;31m \u001b[0mproportion_effectsize\u001b[0m\u001b[0;34m(\u001b[0m\u001b[0;34m)\u001b[0m\u001b[0;34m\u001b[0m\u001b[0;34m\u001b[0m\u001b[0m\n\u001b[0m",
      "\u001b[0;31mTypeError\u001b[0m: proportion_effectsize() missing 2 required positional arguments: 'prop1' and 'prop2'"
     ]
    }
   ],
   "source": [
    "from statsmodels.stats.proportion import proportion_effectsize\n",
    "proportion_effectsize()"
   ]
  },
  {
   "cell_type": "code",
   "execution_count": null,
   "id": "b5f73d53",
   "metadata": {},
   "outputs": [],
   "source": []
  }
 ],
 "metadata": {
  "interpreter": {
   "hash": "8e6a4c907d9d4f71bfd38b2a3a6a6661b67eece1ce5a60357bdd48dba7898a5a"
  },
  "kernelspec": {
   "display_name": "Python 3",
   "language": "python",
   "name": "python3"
  },
  "language_info": {
   "codemirror_mode": {
    "name": "ipython",
    "version": 3
   },
   "file_extension": ".py",
   "mimetype": "text/x-python",
   "name": "python",
   "nbconvert_exporter": "python",
   "pygments_lexer": "ipython3",
   "version": "3.8.8"
  }
 },
 "nbformat": 4,
 "nbformat_minor": 5
}
