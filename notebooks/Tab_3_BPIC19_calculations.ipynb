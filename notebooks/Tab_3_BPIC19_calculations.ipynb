{
 "cells": [
  {
   "cell_type": "markdown",
   "metadata": {},
   "source": [
    "# Trying BPIC2019 event logs calculations"
   ]
  },
  {
   "cell_type": "code",
   "execution_count": 1,
   "metadata": {},
   "outputs": [],
   "source": [
    "import numpy as np\n",
    "import pandas as pd\n",
    "\n",
    "from replearn.eventlog import EventLog\n",
    "\n",
    "from replearn.embedding_predict import EmbeddingPredict\n",
    "from replearn.autoencoder import AutoencoderRepresentation\n",
    "from replearn.doc2vec import Doc2VecRepresentation\n",
    "\n",
    "from replearn.clustering import Clustering\n",
    "import random\n",
    "from replearn.evaluation import Evaluation\n",
    "import pm4py"
   ]
  },
  {
   "cell_type": "markdown",
   "metadata": {},
   "source": [
    "## Load event log"
   ]
  },
  {
   "cell_type": "code",
   "execution_count": 2,
   "metadata": {
    "scrolled": false
   },
   "outputs": [
    {
     "data": {
      "application/vnd.jupyter.widget-view+json": {
       "model_id": "59f49f8a369740d2904a109b8b739262",
       "version_major": 2,
       "version_minor": 0
      },
      "text/plain": [
       "parsing log, completed traces ::   0%|          | 0/251734 [00:00<?, ?it/s]"
      ]
     },
     "metadata": {},
     "output_type": "display_data"
    }
   ],
   "source": [
    "# event log configuration\n",
    "event_log_path = '../logs/BPIC2019'\n",
    "file_name = 'BPI_Challenge_2019.xes'\n",
    "\n",
    "case_attributes = None # auto-detect attributes\n",
    "event_attributes = ['concept:name', 'user'] # use activity name and user org:resource\n",
    "\n",
    "# Item Type as true cluster label\n",
    "true_cluster_label = 'Item Type'\n",
    "\n",
    "# load file\n",
    "event_log = EventLog(file_name, case_attributes=case_attributes, event_attributes=event_attributes, true_cluster_label=true_cluster_label)\n",
    "\n",
    "\n",
    "event_log.load(event_log_path + '/' + file_name, False)\n",
    "\n"
   ]
  },
  {
   "cell_type": "code",
   "execution_count": 4,
   "metadata": {},
   "outputs": [],
   "source": [
    "# filter out Item Type Standard cases\n",
    "event_log._event_log = pm4py.filter_trace_attribute_values(event_log._event_log, \"Item Type\", \"Standard\", retain=False)\n",
    "event_log.preprocess()"
   ]
  },
  {
   "cell_type": "code",
   "execution_count": 5,
   "metadata": {},
   "outputs": [],
   "source": [
    "# method def: Autoencoder = 1, Trace2Vec = 2, Case2Vec(event) = 3, Case2Vec(event+case) = 4, LSTMClust = 5, GRUClust = 6\n",
    "def getResults(method=6, vector_size=32, cluster_alg='agglomerative', dist='cosine'):\n",
    "    \n",
    "    # hyperparameters\n",
    "    n_epochs = 10\n",
    "    n_batch_size = 64\n",
    "    n_clusters = 5\n",
    "\n",
    "    vector_size = vector_size\n",
    "\n",
    "    if method == 1:\n",
    "        # get sequences from event log as one-hot feature vector\n",
    "        sequences = event_log.event_attributes_flat_onehot_features_2d\n",
    "        # init and train autoencoder\n",
    "        autoencoder = AutoencoderRepresentation(event_log)\n",
    "        autoencoder.build_model(sequences.shape[1], encoder_dim=vector_size)\n",
    "        autoencoder.fit(batch_size=n_batch_size, epochs=n_epochs, verbose=True)\n",
    "        # get feature vector\n",
    "        feature_vector = autoencoder.predict()\n",
    "    \n",
    "    elif method == 2:\n",
    "        \n",
    "        doc2vec = Doc2VecRepresentation(event_log)\n",
    "        doc2vec.build_model(append_case_attr=False, append_event_attr=False, vector_size=vector_size, concat=True, epochs=n_epochs)\n",
    "        doc2vec.fit()\n",
    "        \n",
    "        # infer the vector from the model\n",
    "        feature_vector = doc2vec.predict(epochs=50)\n",
    "        \n",
    "    elif method == 3:\n",
    "        \n",
    "        # train doc2vec model\n",
    "        doc2vec = Doc2VecRepresentation(event_log)\n",
    "        doc2vec.build_model(append_case_attr=False, append_event_attr=True, vector_size=vector_size, concat=True, epochs=n_epochs)\n",
    "        doc2vec.fit()\n",
    "        \n",
    "        # infer the vector from the model\n",
    "        feature_vector = doc2vec.predict(epochs=50)\n",
    "        \n",
    "    elif method == 4:\n",
    "        \n",
    "        doc2vec = Doc2VecRepresentation(event_log)\n",
    "        doc2vec.build_model(append_case_attr=True, append_event_attr=True, vector_size=vector_size, concat=True, epochs=n_epochs)\n",
    "        doc2vec.fit()\n",
    "        # infer the vector from the model\n",
    "        feature_vector = doc2vec.predict(epochs=50)\n",
    "        \n",
    "    elif method == 5:\n",
    "        \n",
    "        # init and train LSTM\n",
    "        predictor = EmbeddingPredict(event_log)\n",
    "        predictor.build_model(embedding_dim=vector_size, gru_dim=vector_size, rnn='LSTM')\n",
    "        predictor.fit(epochs=n_epochs, batch_size=n_batch_size, verbose=True)\n",
    "        # get feature vector\n",
    "        pred_model, feature_vector, embedding_vector = predictor.predict()\n",
    "        \n",
    "    else:\n",
    "        \n",
    "        # init and train LSTM\n",
    "        predictor = EmbeddingPredict(event_log)\n",
    "        predictor.build_model(embedding_dim=vector_size, gru_dim=vector_size, rnn='gru')\n",
    "        predictor.fit(epochs=n_epochs, batch_size=n_batch_size, verbose=True)\n",
    "        # get feature vector\n",
    "        pred_model, feature_vector, embedding_vector = predictor.predict()\n",
    "        \n",
    "    \n",
    "    # cluster feature vector\n",
    "    cluster_analysis = Clustering(event_log)\n",
    "    cluster_analysis.cluster(feature_vector, cluster_alg, n_clusters, dist)\n",
    "    \n",
    "    cluster_result = cluster_analysis.evaluate()\n",
    "    print(\"F1-BCubed =\", cluster_result[2])\n",
    "    \n",
    "    evaluation_a = Evaluation(event_log)\n",
    "    results = evaluation_a.evaluate_clusters(n_clusters,cluster_analysis._pred_labels)\n",
    "    \n",
    "    data = {'Method': method, 'Fitness': results[0], 'Precision': results[1], 'Simplicity': results[2], 'F1-BCubed': cluster_result[2]}\n",
    "    print(\"Replay results =\", data)\n",
    "\n",
    "    \n",
    "    return data"
   ]
  },
  {
   "cell_type": "code",
   "execution_count": 6,
   "metadata": {},
   "outputs": [
    {
     "name": "stdout",
     "output_type": "stream",
     "text": [
      "Epoch 1/10\n",
      "493/493 [==============================] - 8s 12ms/step - loss: 28.2339 - dense_loss: 1.8927 - dense_1_loss: 0.1505 - dense_2_loss: 0.2671 - dense_3_loss: 2.7198 - dense_4_loss: 9.9070 - dense_5_loss: 0.0000e+00 - dense_6_loss: 4.4341 - dense_7_loss: 0.8803 - dense_8_loss: 0.5707 - dense_9_loss: 0.0000e+00 - dense_10_loss: 4.4034 - dense_11_loss: 0.2903 - dense_12_loss: 2.5679 - dense_13_loss: 0.1501 - dense_accuracy: 0.4196 - dense_1_accuracy: 0.9669 - dense_2_accuracy: 0.9355 - dense_3_accuracy: 0.2974 - dense_4_accuracy: 0.0062 - dense_5_accuracy: 0.0000e+00 - dense_6_accuracy: 0.1241 - dense_7_accuracy: 0.6455 - dense_8_accuracy: 0.7652 - dense_9_accuracy: 0.0000e+00 - dense_10_accuracy: 0.1217 - dense_11_accuracy: 0.9009 - dense_12_accuracy: 0.4281 - dense_13_accuracy: 0.9669\n",
      "Epoch 2/10\n",
      "493/493 [==============================] - 6s 12ms/step - loss: 23.8968 - dense_loss: 1.4267 - dense_1_loss: 0.1030 - dense_2_loss: 0.2003 - dense_3_loss: 2.2007 - dense_4_loss: 8.9967 - dense_5_loss: 0.0000e+00 - dense_6_loss: 3.7732 - dense_7_loss: 0.4453 - dense_8_loss: 0.4125 - dense_9_loss: 0.0000e+00 - dense_10_loss: 3.7440 - dense_11_loss: 0.1676 - dense_12_loss: 2.3234 - dense_13_loss: 0.1033 - dense_accuracy: 0.5826 - dense_1_accuracy: 0.9719 - dense_2_accuracy: 0.9422 - dense_3_accuracy: 0.4162 - dense_4_accuracy: 0.0083 - dense_5_accuracy: 0.0000e+00 - dense_6_accuracy: 0.1744 - dense_7_accuracy: 0.8766 - dense_8_accuracy: 0.8389 - dense_9_accuracy: 0.0000e+00 - dense_10_accuracy: 0.1739 - dense_11_accuracy: 0.9526 - dense_12_accuracy: 0.4864 - dense_13_accuracy: 0.9723\n",
      "Epoch 3/10\n",
      "493/493 [==============================] - 6s 12ms/step - loss: 22.9220 - dense_loss: 1.3482 - dense_1_loss: 0.0702 - dense_2_loss: 0.1547 - dense_3_loss: 2.1074 - dense_4_loss: 8.6792 - dense_5_loss: 0.0000e+00 - dense_6_loss: 3.6332 - dense_7_loss: 0.3882 - dense_8_loss: 0.3993 - dense_9_loss: 0.0000e+00 - dense_10_loss: 3.6042 - dense_11_loss: 0.1556 - dense_12_loss: 2.3107 - dense_13_loss: 0.0709 - dense_accuracy: 0.5952 - dense_1_accuracy: 0.9826 - dense_2_accuracy: 0.9535 - dense_3_accuracy: 0.4222 - dense_4_accuracy: 0.0096 - dense_5_accuracy: 0.0000e+00 - dense_6_accuracy: 0.1864 - dense_7_accuracy: 0.8929 - dense_8_accuracy: 0.8384 - dense_9_accuracy: 0.0000e+00 - dense_10_accuracy: 0.1868 - dense_11_accuracy: 0.9604 - dense_12_accuracy: 0.4898 - dense_13_accuracy: 0.9826\n",
      "Epoch 4/10\n",
      "493/493 [==============================] - 6s 12ms/step - loss: 22.3812 - dense_loss: 1.3147 - dense_1_loss: 0.0559 - dense_2_loss: 0.1229 - dense_3_loss: 2.0601 - dense_4_loss: 8.4885 - dense_5_loss: 0.0000e+00 - dense_6_loss: 3.5510 - dense_7_loss: 0.3641 - dense_8_loss: 0.4000 - dense_9_loss: 0.0000e+00 - dense_10_loss: 3.5225 - dense_11_loss: 0.1526 - dense_12_loss: 2.2922 - dense_13_loss: 0.0566 - dense_accuracy: 0.6018 - dense_1_accuracy: 0.9831 - dense_2_accuracy: 0.9571 - dense_3_accuracy: 0.4329 - dense_4_accuracy: 0.0106 - dense_5_accuracy: 0.0000e+00 - dense_6_accuracy: 0.2003 - dense_7_accuracy: 0.8933 - dense_8_accuracy: 0.8378 - dense_9_accuracy: 0.0000e+00 - dense_10_accuracy: 0.2003 - dense_11_accuracy: 0.9621 - dense_12_accuracy: 0.4903 - dense_13_accuracy: 0.9831\n",
      "Epoch 5/10\n",
      "493/493 [==============================] - 6s 12ms/step - loss: 21.7271 - dense_loss: 1.2687 - dense_1_loss: 0.0369 - dense_2_loss: 0.0901 - dense_3_loss: 2.0027 - dense_4_loss: 8.3217 - dense_5_loss: 0.0000e+00 - dense_6_loss: 3.4345 - dense_7_loss: 0.3250 - dense_8_loss: 0.3818 - dense_9_loss: 0.0000e+00 - dense_10_loss: 3.4062 - dense_11_loss: 0.1418 - dense_12_loss: 2.2806 - dense_13_loss: 0.0370 - dense_accuracy: 0.6082 - dense_1_accuracy: 0.9885 - dense_2_accuracy: 0.9701 - dense_3_accuracy: 0.4379 - dense_4_accuracy: 0.0152 - dense_5_accuracy: 0.0000e+00 - dense_6_accuracy: 0.2150 - dense_7_accuracy: 0.9000 - dense_8_accuracy: 0.8432 - dense_9_accuracy: 0.0000e+00 - dense_10_accuracy: 0.2149 - dense_11_accuracy: 0.9636 - dense_12_accuracy: 0.4913 - dense_13_accuracy: 0.9885\n",
      "Epoch 6/10\n",
      "493/493 [==============================] - 6s 12ms/step - loss: 21.1318 - dense_loss: 1.2281 - dense_1_loss: 0.0246 - dense_2_loss: 0.0666 - dense_3_loss: 1.9491 - dense_4_loss: 8.1464 - dense_5_loss: 0.0000e+00 - dense_6_loss: 3.3249 - dense_7_loss: 0.2986 - dense_8_loss: 0.3661 - dense_9_loss: 0.0000e+00 - dense_10_loss: 3.2975 - dense_11_loss: 0.1354 - dense_12_loss: 2.2699 - dense_13_loss: 0.0245 - dense_accuracy: 0.6119 - dense_1_accuracy: 0.9887 - dense_2_accuracy: 0.9733 - dense_3_accuracy: 0.4409 - dense_4_accuracy: 0.0170 - dense_5_accuracy: 0.0000e+00 - dense_6_accuracy: 0.2274 - dense_7_accuracy: 0.9029 - dense_8_accuracy: 0.8449 - dense_9_accuracy: 0.0000e+00 - dense_10_accuracy: 0.2274 - dense_11_accuracy: 0.9635 - dense_12_accuracy: 0.4906 - dense_13_accuracy: 0.9887\n",
      "Epoch 7/10\n",
      "493/493 [==============================] - 6s 12ms/step - loss: 20.5527 - dense_loss: 1.1863 - dense_1_loss: 0.0121 - dense_2_loss: 0.0523 - dense_3_loss: 1.8690 - dense_4_loss: 8.0225 - dense_5_loss: 0.0000e+00 - dense_6_loss: 3.1952 - dense_7_loss: 0.2754 - dense_8_loss: 0.3586 - dense_9_loss: 0.0000e+00 - dense_10_loss: 3.1745 - dense_11_loss: 0.1307 - dense_12_loss: 2.2639 - dense_13_loss: 0.0121 - dense_accuracy: 0.6115 - dense_1_accuracy: 0.9974 - dense_2_accuracy: 0.9838 - dense_3_accuracy: 0.4665 - dense_4_accuracy: 0.0186 - dense_5_accuracy: 0.0000e+00 - dense_6_accuracy: 0.2548 - dense_7_accuracy: 0.9115 - dense_8_accuracy: 0.8516 - dense_9_accuracy: 0.0000e+00 - dense_10_accuracy: 0.2544 - dense_11_accuracy: 0.9636 - dense_12_accuracy: 0.4909 - dense_13_accuracy: 0.9973\n",
      "Epoch 8/10\n",
      "493/493 [==============================] - 6s 12ms/step - loss: 20.0733 - dense_loss: 1.1565 - dense_1_loss: 0.0071 - dense_2_loss: 0.0478 - dense_3_loss: 1.8093 - dense_4_loss: 7.9050 - dense_5_loss: 0.0000e+00 - dense_6_loss: 3.0759 - dense_7_loss: 0.2705 - dense_8_loss: 0.3576 - dense_9_loss: 0.0000e+00 - dense_10_loss: 3.0599 - dense_11_loss: 0.1322 - dense_12_loss: 2.2443 - dense_13_loss: 0.0071 - dense_accuracy: 0.6308 - dense_1_accuracy: 0.9983 - dense_2_accuracy: 0.9859 - dense_3_accuracy: 0.4914 - dense_4_accuracy: 0.0230 - dense_5_accuracy: 0.0000e+00 - dense_6_accuracy: 0.2810 - dense_7_accuracy: 0.9114 - dense_8_accuracy: 0.8502 - dense_9_accuracy: 0.0000e+00 - dense_10_accuracy: 0.2812 - dense_11_accuracy: 0.9630 - dense_12_accuracy: 0.4919 - dense_13_accuracy: 0.9983\n",
      "Epoch 9/10\n",
      "493/493 [==============================] - 6s 12ms/step - loss: 19.7763 - dense_loss: 1.1474 - dense_1_loss: 0.0065 - dense_2_loss: 0.0455 - dense_3_loss: 1.7890 - dense_4_loss: 7.7734 - dense_5_loss: 0.0000e+00 - dense_6_loss: 3.0143 - dense_7_loss: 0.2706 - dense_8_loss: 0.3557 - dense_9_loss: 0.0000e+00 - dense_10_loss: 2.9980 - dense_11_loss: 0.1326 - dense_12_loss: 2.2368 - dense_13_loss: 0.0065 - dense_accuracy: 0.6352 - dense_1_accuracy: 0.9983 - dense_2_accuracy: 0.9865 - dense_3_accuracy: 0.4958 - dense_4_accuracy: 0.0250 - dense_5_accuracy: 0.0000e+00 - dense_6_accuracy: 0.2921 - dense_7_accuracy: 0.9106 - dense_8_accuracy: 0.8557 - dense_9_accuracy: 0.0000e+00 - dense_10_accuracy: 0.2925 - dense_11_accuracy: 0.9626 - dense_12_accuracy: 0.4931 - dense_13_accuracy: 0.9983\n",
      "Epoch 10/10\n",
      "493/493 [==============================] - 6s 12ms/step - loss: 19.5460 - dense_loss: 1.1408 - dense_1_loss: 0.0067 - dense_2_loss: 0.0457 - dense_3_loss: 1.7727 - dense_4_loss: 7.6496 - dense_5_loss: 0.0000e+00 - dense_6_loss: 2.9745 - dense_7_loss: 0.2696 - dense_8_loss: 0.3543 - dense_9_loss: 0.0000e+00 - dense_10_loss: 2.9579 - dense_11_loss: 0.1320 - dense_12_loss: 2.2355 - dense_13_loss: 0.0067 - dense_accuracy: 0.6359 - dense_1_accuracy: 0.9984 - dense_2_accuracy: 0.9871 - dense_3_accuracy: 0.4953 - dense_4_accuracy: 0.0268 - dense_5_accuracy: 0.0000e+00 - dense_6_accuracy: 0.2948 - dense_7_accuracy: 0.9126 - dense_8_accuracy: 0.8561 - dense_9_accuracy: 0.0000e+00 - dense_10_accuracy: 0.2954 - dense_11_accuracy: 0.9635 - dense_12_accuracy: 0.4931 - dense_13_accuracy: 0.9984\n",
      "F1-BCubed = 0.7956694370905629\n"
     ]
    },
    {
     "name": "stderr",
     "output_type": "stream",
     "text": [
      "C:\\Users\\malte\\.conda\\envs\\replearn\\lib\\site-packages\\pm4py\\evaluation\\replay_fitness\\evaluator.py:73: UserWarning: Use the pm4py.algo.evaluation.replay_fitness package\n",
      "  warnings.warn(\"Use the pm4py.algo.evaluation.replay_fitness package\")\n",
      "C:\\Users\\malte\\.conda\\envs\\replearn\\lib\\site-packages\\pm4py\\evaluation\\precision\\evaluator.py:62: UserWarning: Use the pm4py.algo.evaluation.precision package\n",
      "  warnings.warn(\"Use the pm4py.algo.evaluation.precision package\")\n",
      "C:\\Users\\malte\\.conda\\envs\\replearn\\lib\\site-packages\\pm4py\\evaluation\\simplicity\\evaluator.py:38: UserWarning: Use the pm4py.algo.evaluation.simplicity package\n",
      "  warnings.warn(\"Use the pm4py.algo.evaluation.simplicity package\")\n"
     ]
    },
    {
     "data": {
      "application/vnd.jupyter.widget-view+json": {
       "model_id": "6b405e07eb7c40e6b54ca0c7e461e0e5",
       "version_major": 2,
       "version_minor": 0
      },
      "text/plain": [
       "replaying log with TBR, completed variants ::   0%|          | 0/257 [00:00<?, ?it/s]"
      ]
     },
     "metadata": {},
     "output_type": "display_data"
    },
    {
     "data": {
      "application/vnd.jupyter.widget-view+json": {
       "model_id": "925f3801e23642b7af6cbcea103ecb95",
       "version_major": 2,
       "version_minor": 0
      },
      "text/plain": [
       "replaying log with TBR, completed variants ::   0%|          | 0/686 [00:00<?, ?it/s]"
      ]
     },
     "metadata": {},
     "output_type": "display_data"
    },
    {
     "data": {
      "application/vnd.jupyter.widget-view+json": {
       "model_id": "60e90b9d79de4066a888b969910d9632",
       "version_major": 2,
       "version_minor": 0
      },
      "text/plain": [
       "replaying log with TBR, completed variants ::   0%|          | 0/151 [00:00<?, ?it/s]"
      ]
     },
     "metadata": {},
     "output_type": "display_data"
    },
    {
     "data": {
      "application/vnd.jupyter.widget-view+json": {
       "model_id": "f5cd0d34d4164eb6b2a51e1611ca1857",
       "version_major": 2,
       "version_minor": 0
      },
      "text/plain": [
       "replaying log with TBR, completed variants ::   0%|          | 0/509 [00:00<?, ?it/s]"
      ]
     },
     "metadata": {},
     "output_type": "display_data"
    },
    {
     "data": {
      "application/vnd.jupyter.widget-view+json": {
       "model_id": "fbbb58ca6d364deaa0a2a5a53d0132b3",
       "version_major": 2,
       "version_minor": 0
      },
      "text/plain": [
       "replaying log with TBR, completed variants ::   0%|          | 0/345 [00:00<?, ?it/s]"
      ]
     },
     "metadata": {},
     "output_type": "display_data"
    },
    {
     "data": {
      "application/vnd.jupyter.widget-view+json": {
       "model_id": "907e658c90764600b70f4e469691a12b",
       "version_major": 2,
       "version_minor": 0
      },
      "text/plain": [
       "replaying log with TBR, completed variants ::   0%|          | 0/1273 [00:00<?, ?it/s]"
      ]
     },
     "metadata": {},
     "output_type": "display_data"
    },
    {
     "data": {
      "application/vnd.jupyter.widget-view+json": {
       "model_id": "92aca31cec4048bfae56ae67689e096d",
       "version_major": 2,
       "version_minor": 0
      },
      "text/plain": [
       "replaying log with TBR, completed variants ::   0%|          | 0/303 [00:00<?, ?it/s]"
      ]
     },
     "metadata": {},
     "output_type": "display_data"
    },
    {
     "data": {
      "application/vnd.jupyter.widget-view+json": {
       "model_id": "3de502676e1c4a9784b37e7ab02b470c",
       "version_major": 2,
       "version_minor": 0
      },
      "text/plain": [
       "replaying log with TBR, completed variants ::   0%|          | 0/963 [00:00<?, ?it/s]"
      ]
     },
     "metadata": {},
     "output_type": "display_data"
    },
    {
     "name": "stdout",
     "output_type": "stream",
     "text": [
      "Replay results = {'Method': 5, 'Fitness': 0.6969116397435655, 'Precision': 0.7620515005438527, 'Simplicity': 0.46265066667973836, 'F1-BCubed': 0.7956694370905629}\n"
     ]
    }
   ],
   "source": [
    "resultsLSTM = getResults(method=5, vector_size=8, cluster_alg='agglomerative', dist='cosine')"
   ]
  },
  {
   "cell_type": "code",
   "execution_count": 7,
   "metadata": {},
   "outputs": [
    {
     "name": "stdout",
     "output_type": "stream",
     "text": [
      "Epoch 1/10\n",
      "493/493 [==============================] - 11s 19ms/step - loss: 22.6135 - dense_14_loss: 1.2733 - dense_15_loss: 0.0407 - dense_16_loss: 0.0886 - dense_17_loss: 1.9697 - dense_18_loss: 9.2971 - dense_19_loss: 0.0000e+00 - dense_20_loss: 3.2947 - dense_21_loss: 0.3771 - dense_22_loss: 0.3988 - dense_23_loss: 0.0000e+00 - dense_24_loss: 3.2722 - dense_25_loss: 0.1704 - dense_26_loss: 2.3914 - dense_27_loss: 0.0394 - dense_14_accuracy: 0.5977 - dense_15_accuracy: 0.9927 - dense_16_accuracy: 0.9802 - dense_17_accuracy: 0.4571 - dense_18_accuracy: 0.0271 - dense_19_accuracy: 0.0000e+00 - dense_20_accuracy: 0.2818 - dense_21_accuracy: 0.8678 - dense_22_accuracy: 0.8446 - dense_23_accuracy: 0.0000e+00 - dense_24_accuracy: 0.2812 - dense_25_accuracy: 0.9453 - dense_26_accuracy: 0.4746 - dense_27_accuracy: 0.9928\n",
      "Epoch 2/10\n",
      "493/493 [==============================] - 10s 19ms/step - loss: 18.7766 - dense_14_loss: 1.0754 - dense_15_loss: 0.0074 - dense_16_loss: 0.0379 - dense_17_loss: 1.6721 - dense_18_loss: 7.7124 - dense_19_loss: 0.0000e+00 - dense_20_loss: 2.6845 - dense_21_loss: 0.2662 - dense_22_loss: 0.3285 - dense_23_loss: 0.0000e+00 - dense_24_loss: 2.6673 - dense_25_loss: 0.1220 - dense_26_loss: 2.1954 - dense_27_loss: 0.0075 - dense_14_accuracy: 0.6465 - dense_15_accuracy: 0.9980 - dense_16_accuracy: 0.9893 - dense_17_accuracy: 0.5214 - dense_18_accuracy: 0.0474 - dense_19_accuracy: 0.0000e+00 - dense_20_accuracy: 0.3653 - dense_21_accuracy: 0.9105 - dense_22_accuracy: 0.8691 - dense_23_accuracy: 0.0000e+00 - dense_24_accuracy: 0.3643 - dense_25_accuracy: 0.9626 - dense_26_accuracy: 0.4934 - dense_27_accuracy: 0.9980\n",
      "Epoch 3/10\n",
      "493/493 [==============================] - 9s 19ms/step - loss: 17.8478 - dense_14_loss: 1.0564 - dense_15_loss: 0.0064 - dense_16_loss: 0.0348 - dense_17_loss: 1.6321 - dense_18_loss: 7.1080 - dense_19_loss: 0.0000e+00 - dense_20_loss: 2.5726 - dense_21_loss: 0.2617 - dense_22_loss: 0.3224 - dense_23_loss: 0.0000e+00 - dense_24_loss: 2.5568 - dense_25_loss: 0.1200 - dense_26_loss: 2.1702 - dense_27_loss: 0.0064 - dense_14_accuracy: 0.6497 - dense_15_accuracy: 0.9979 - dense_16_accuracy: 0.9899 - dense_17_accuracy: 0.5298 - dense_18_accuracy: 0.0538 - dense_19_accuracy: 0.0000e+00 - dense_20_accuracy: 0.3826 - dense_21_accuracy: 0.9120 - dense_22_accuracy: 0.8697 - dense_23_accuracy: 0.0000e+00 - dense_24_accuracy: 0.3827 - dense_25_accuracy: 0.9631 - dense_26_accuracy: 0.4953 - dense_27_accuracy: 0.9980\n",
      "Epoch 4/10\n",
      "493/493 [==============================] - 10s 19ms/step - loss: 18.0222 - dense_14_loss: 1.0804 - dense_15_loss: 0.0093 - dense_16_loss: 0.0472 - dense_17_loss: 1.6676 - dense_18_loss: 7.0157 - dense_19_loss: 0.0000e+00 - dense_20_loss: 2.6391 - dense_21_loss: 0.2712 - dense_22_loss: 0.3314 - dense_23_loss: 0.0000e+00 - dense_24_loss: 2.6209 - dense_25_loss: 0.1253 - dense_26_loss: 2.2049 - dense_27_loss: 0.0091 - dense_14_accuracy: 0.6435 - dense_15_accuracy: 0.9971 - dense_16_accuracy: 0.9872 - dense_17_accuracy: 0.5218 - dense_18_accuracy: 0.0517 - dense_19_accuracy: 0.0000e+00 - dense_20_accuracy: 0.3748 - dense_21_accuracy: 0.9091 - dense_22_accuracy: 0.8695 - dense_23_accuracy: 0.0000e+00 - dense_24_accuracy: 0.3750 - dense_25_accuracy: 0.9606 - dense_26_accuracy: 0.4915 - dense_27_accuracy: 0.9972\n",
      "Epoch 5/10\n",
      "493/493 [==============================] - 10s 20ms/step - loss: 19.4820 - dense_14_loss: 1.1093 - dense_15_loss: 0.0076 - dense_16_loss: 0.0440 - dense_17_loss: 1.7331 - dense_18_loss: 7.9424 - dense_19_loss: 0.0000e+00 - dense_20_loss: 2.8196 - dense_21_loss: 0.2771 - dense_22_loss: 0.3486 - dense_23_loss: 0.0000e+00 - dense_24_loss: 2.8008 - dense_25_loss: 0.1269 - dense_26_loss: 2.2649 - dense_27_loss: 0.0076 - dense_14_accuracy: 0.6389 - dense_15_accuracy: 0.9975 - dense_16_accuracy: 0.9874 - dense_17_accuracy: 0.5116 - dense_18_accuracy: 0.0400 - dense_19_accuracy: 0.0000e+00 - dense_20_accuracy: 0.3487 - dense_21_accuracy: 0.9083 - dense_22_accuracy: 0.8631 - dense_23_accuracy: 0.0000e+00 - dense_24_accuracy: 0.3483 - dense_25_accuracy: 0.9628 - dense_26_accuracy: 0.4877 - dense_27_accuracy: 0.9975\n",
      "Epoch 6/10\n",
      "493/493 [==============================] - 10s 20ms/step - loss: 18.0245 - dense_14_loss: 1.0742 - dense_15_loss: 0.0070 - dense_16_loss: 0.0376 - dense_17_loss: 1.6600 - dense_18_loss: 7.0933 - dense_19_loss: 0.0000e+00 - dense_20_loss: 2.6203 - dense_21_loss: 0.2644 - dense_22_loss: 0.3356 - dense_23_loss: 0.0000e+00 - dense_24_loss: 2.6042 - dense_25_loss: 0.1200 - dense_26_loss: 2.2007 - dense_27_loss: 0.0071 - dense_14_accuracy: 0.6450 - dense_15_accuracy: 0.9979 - dense_16_accuracy: 0.9891 - dense_17_accuracy: 0.5234 - dense_18_accuracy: 0.0497 - dense_19_accuracy: 0.0000e+00 - dense_20_accuracy: 0.3772 - dense_21_accuracy: 0.9104 - dense_22_accuracy: 0.8666 - dense_23_accuracy: 0.0000e+00 - dense_24_accuracy: 0.3776 - dense_25_accuracy: 0.9624 - dense_26_accuracy: 0.4929 - dense_27_accuracy: 0.9978\n",
      "Epoch 7/10\n",
      "493/493 [==============================] - 10s 20ms/step - loss: 17.4876 - dense_14_loss: 1.0552 - dense_15_loss: 0.0057 - dense_16_loss: 0.0341 - dense_17_loss: 1.6291 - dense_18_loss: 6.7978 - dense_19_loss: 0.0000e+00 - dense_20_loss: 2.5481 - dense_21_loss: 0.2582 - dense_22_loss: 0.3256 - dense_23_loss: 0.0000e+00 - dense_24_loss: 2.5329 - dense_25_loss: 0.1181 - dense_26_loss: 2.1769 - dense_27_loss: 0.0058 - dense_14_accuracy: 0.6508 - dense_15_accuracy: 0.9982 - dense_16_accuracy: 0.9896 - dense_17_accuracy: 0.5312 - dense_18_accuracy: 0.0539 - dense_19_accuracy: 0.0000e+00 - dense_20_accuracy: 0.3883 - dense_21_accuracy: 0.9115 - dense_22_accuracy: 0.8708 - dense_23_accuracy: 0.0000e+00 - dense_24_accuracy: 0.3882 - dense_25_accuracy: 0.9632 - dense_26_accuracy: 0.4943 - dense_27_accuracy: 0.9983\n",
      "Epoch 8/10\n",
      "493/493 [==============================] - 10s 20ms/step - loss: 16.9579 - dense_14_loss: 1.0421 - dense_15_loss: 0.0055 - dense_16_loss: 0.0321 - dense_17_loss: 1.6031 - dense_18_loss: 6.4776 - dense_19_loss: 0.0000e+00 - dense_20_loss: 2.4783 - dense_21_loss: 0.2579 - dense_22_loss: 0.3194 - dense_23_loss: 0.0000e+00 - dense_24_loss: 2.4632 - dense_25_loss: 0.1184 - dense_26_loss: 2.1545 - dense_27_loss: 0.0055 - dense_14_accuracy: 0.6534 - dense_15_accuracy: 0.9982 - dense_16_accuracy: 0.9906 - dense_17_accuracy: 0.5320 - dense_18_accuracy: 0.0616 - dense_19_accuracy: 0.0000e+00 - dense_20_accuracy: 0.3949 - dense_21_accuracy: 0.9117 - dense_22_accuracy: 0.8727 - dense_23_accuracy: 0.0000e+00 - dense_24_accuracy: 0.3952 - dense_25_accuracy: 0.9630 - dense_26_accuracy: 0.4957 - dense_27_accuracy: 0.9983\n",
      "Epoch 9/10\n",
      "493/493 [==============================] - 10s 19ms/step - loss: 16.6543 - dense_14_loss: 1.0344 - dense_15_loss: 0.0050 - dense_16_loss: 0.0326 - dense_17_loss: 1.5864 - dense_18_loss: 6.3020 - dense_19_loss: 0.0000e+00 - dense_20_loss: 2.4359 - dense_21_loss: 0.2553 - dense_22_loss: 0.3169 - dense_23_loss: 0.0000e+00 - dense_24_loss: 2.4210 - dense_25_loss: 0.1166 - dense_26_loss: 2.1432 - dense_27_loss: 0.0050 - dense_14_accuracy: 0.6550 - dense_15_accuracy: 0.9984 - dense_16_accuracy: 0.9902 - dense_17_accuracy: 0.5387 - dense_18_accuracy: 0.0672 - dense_19_accuracy: 0.0000e+00 - dense_20_accuracy: 0.4016 - dense_21_accuracy: 0.9128 - dense_22_accuracy: 0.8729 - dense_23_accuracy: 0.0000e+00 - dense_24_accuracy: 0.4025 - dense_25_accuracy: 0.9636 - dense_26_accuracy: 0.4969 - dense_27_accuracy: 0.9984\n",
      "Epoch 10/10\n"
     ]
    },
    {
     "name": "stdout",
     "output_type": "stream",
     "text": [
      "493/493 [==============================] - 10s 20ms/step - loss: 17.1012 - dense_14_loss: 1.0539 - dense_15_loss: 0.0062 - dense_16_loss: 0.0359 - dense_17_loss: 1.6214 - dense_18_loss: 6.4967 - dense_19_loss: 0.0000e+00 - dense_20_loss: 2.5101 - dense_21_loss: 0.2595 - dense_22_loss: 0.3273 - dense_23_loss: 0.0000e+00 - dense_24_loss: 2.4949 - dense_25_loss: 0.1192 - dense_26_loss: 2.1700 - dense_27_loss: 0.0062 - dense_14_accuracy: 0.6523 - dense_15_accuracy: 0.9982 - dense_16_accuracy: 0.9897 - dense_17_accuracy: 0.5299 - dense_18_accuracy: 0.0625 - dense_19_accuracy: 0.0000e+00 - dense_20_accuracy: 0.3902 - dense_21_accuracy: 0.9134 - dense_22_accuracy: 0.8700 - dense_23_accuracy: 0.0000e+00 - dense_24_accuracy: 0.3905 - dense_25_accuracy: 0.9632 - dense_26_accuracy: 0.4942 - dense_27_accuracy: 0.9982\n",
      "F1-BCubed = 0.7286312127726361\n"
     ]
    },
    {
     "name": "stderr",
     "output_type": "stream",
     "text": [
      "C:\\Users\\malte\\.conda\\envs\\replearn\\lib\\site-packages\\pm4py\\evaluation\\replay_fitness\\evaluator.py:73: UserWarning: Use the pm4py.algo.evaluation.replay_fitness package\n",
      "  warnings.warn(\"Use the pm4py.algo.evaluation.replay_fitness package\")\n",
      "C:\\Users\\malte\\.conda\\envs\\replearn\\lib\\site-packages\\pm4py\\evaluation\\precision\\evaluator.py:62: UserWarning: Use the pm4py.algo.evaluation.precision package\n",
      "  warnings.warn(\"Use the pm4py.algo.evaluation.precision package\")\n",
      "C:\\Users\\malte\\.conda\\envs\\replearn\\lib\\site-packages\\pm4py\\evaluation\\simplicity\\evaluator.py:38: UserWarning: Use the pm4py.algo.evaluation.simplicity package\n",
      "  warnings.warn(\"Use the pm4py.algo.evaluation.simplicity package\")\n"
     ]
    },
    {
     "data": {
      "application/vnd.jupyter.widget-view+json": {
       "model_id": "8728af8525754d8c8cf3ef6a8a7ef76b",
       "version_major": 2,
       "version_minor": 0
      },
      "text/plain": [
       "replaying log with TBR, completed variants ::   0%|          | 0/288 [00:00<?, ?it/s]"
      ]
     },
     "metadata": {},
     "output_type": "display_data"
    },
    {
     "data": {
      "application/vnd.jupyter.widget-view+json": {
       "model_id": "e0e7d6fbe4bf47e683f6347913253c1d",
       "version_major": 2,
       "version_minor": 0
      },
      "text/plain": [
       "replaying log with TBR, completed variants ::   0%|          | 0/467 [00:00<?, ?it/s]"
      ]
     },
     "metadata": {},
     "output_type": "display_data"
    },
    {
     "data": {
      "application/vnd.jupyter.widget-view+json": {
       "model_id": "c43084e16cd1470285fca17ea15290ab",
       "version_major": 2,
       "version_minor": 0
      },
      "text/plain": [
       "replaying log with TBR, completed variants ::   0%|          | 0/1192 [00:00<?, ?it/s]"
      ]
     },
     "metadata": {},
     "output_type": "display_data"
    },
    {
     "data": {
      "application/vnd.jupyter.widget-view+json": {
       "model_id": "a8b8f9ef812f42cfb30f695f223d7081",
       "version_major": 2,
       "version_minor": 0
      },
      "text/plain": [
       "replaying log with TBR, completed variants ::   0%|          | 0/158531 [00:00<?, ?it/s]"
      ]
     },
     "metadata": {},
     "output_type": "display_data"
    },
    {
     "data": {
      "application/vnd.jupyter.widget-view+json": {
       "model_id": "c45c6ddf42304a1a9afaf0206f9d46d0",
       "version_major": 2,
       "version_minor": 0
      },
      "text/plain": [
       "replaying log with TBR, completed variants ::   0%|          | 0/2479 [00:00<?, ?it/s]"
      ]
     },
     "metadata": {},
     "output_type": "display_data"
    },
    {
     "data": {
      "application/vnd.jupyter.widget-view+json": {
       "model_id": "264c45e87eed4f6e8c5396659a9248bf",
       "version_major": 2,
       "version_minor": 0
      },
      "text/plain": [
       "replaying log with TBR, completed variants ::   0%|          | 0/20612 [00:00<?, ?it/s]"
      ]
     },
     "metadata": {},
     "output_type": "display_data"
    },
    {
     "data": {
      "application/vnd.jupyter.widget-view+json": {
       "model_id": "f9b7734df0264ab797e10e4c8430f3cd",
       "version_major": 2,
       "version_minor": 0
      },
      "text/plain": [
       "replaying log with TBR, completed variants ::   0%|          | 0/270 [00:00<?, ?it/s]"
      ]
     },
     "metadata": {},
     "output_type": "display_data"
    },
    {
     "data": {
      "application/vnd.jupyter.widget-view+json": {
       "model_id": "b80ea4f877bb4412ab8b231cc3644bb6",
       "version_major": 2,
       "version_minor": 0
      },
      "text/plain": [
       "replaying log with TBR, completed variants ::   0%|          | 0/1108 [00:00<?, ?it/s]"
      ]
     },
     "metadata": {},
     "output_type": "display_data"
    },
    {
     "name": "stdout",
     "output_type": "stream",
     "text": [
      "Replay results = {'Method': 6, 'Fitness': 0.7341363391900212, 'Precision': 0.6825263253032546, 'Simplicity': 0.4585341376642275, 'F1-BCubed': 0.7286312127726361}\n"
     ]
    }
   ],
   "source": [
    "resultsGRU = getResults(method=6, vector_size=64, cluster_alg='agglomerative', dist='cosine')"
   ]
  },
  {
   "cell_type": "code",
   "execution_count": 8,
   "metadata": {},
   "outputs": [
    {
     "name": "stderr",
     "output_type": "stream",
     "text": [
      "C:\\Users\\malte\\.conda\\envs\\replearn\\lib\\site-packages\\keras\\optimizer_v2\\adam.py:105: UserWarning: The `lr` argument is deprecated, use `learning_rate` instead.\n",
      "  super(Adam, self).__init__(name, **kwargs)\n"
     ]
    },
    {
     "name": "stdout",
     "output_type": "stream",
     "text": [
      "Epoch 1/10\n",
      "493/493 [==============================] - 4s 8ms/step - loss: 0.0483\n",
      "Epoch 2/10\n",
      "493/493 [==============================] - 4s 8ms/step - loss: 0.0051\n",
      "Epoch 3/10\n",
      "493/493 [==============================] - 4s 8ms/step - loss: 0.0040\n",
      "Epoch 4/10\n",
      "493/493 [==============================] - 4s 8ms/step - loss: 0.0028\n",
      "Epoch 5/10\n",
      "493/493 [==============================] - 4s 8ms/step - loss: 0.0025\n",
      "Epoch 6/10\n",
      "493/493 [==============================] - 4s 8ms/step - loss: 0.0024\n",
      "Epoch 7/10\n",
      "493/493 [==============================] - 4s 8ms/step - loss: 0.0023\n",
      "Epoch 8/10\n",
      "493/493 [==============================] - 4s 8ms/step - loss: 0.0022\n",
      "Epoch 9/10\n",
      "493/493 [==============================] - 4s 8ms/step - loss: 0.0021\n",
      "Epoch 10/10\n",
      "493/493 [==============================] - 4s 8ms/step - loss: 0.0021\n",
      "F1-BCubed = 0.5247398035684203\n"
     ]
    },
    {
     "name": "stderr",
     "output_type": "stream",
     "text": [
      "C:\\Users\\malte\\.conda\\envs\\replearn\\lib\\site-packages\\pm4py\\evaluation\\replay_fitness\\evaluator.py:73: UserWarning: Use the pm4py.algo.evaluation.replay_fitness package\n",
      "  warnings.warn(\"Use the pm4py.algo.evaluation.replay_fitness package\")\n",
      "C:\\Users\\malte\\.conda\\envs\\replearn\\lib\\site-packages\\pm4py\\evaluation\\precision\\evaluator.py:62: UserWarning: Use the pm4py.algo.evaluation.precision package\n",
      "  warnings.warn(\"Use the pm4py.algo.evaluation.precision package\")\n",
      "C:\\Users\\malte\\.conda\\envs\\replearn\\lib\\site-packages\\pm4py\\evaluation\\simplicity\\evaluator.py:38: UserWarning: Use the pm4py.algo.evaluation.simplicity package\n",
      "  warnings.warn(\"Use the pm4py.algo.evaluation.simplicity package\")\n"
     ]
    },
    {
     "data": {
      "application/vnd.jupyter.widget-view+json": {
       "model_id": "6bfa0b5417254473a14f0e096eb86896",
       "version_major": 2,
       "version_minor": 0
      },
      "text/plain": [
       "replaying log with TBR, completed variants ::   0%|          | 0/18 [00:00<?, ?it/s]"
      ]
     },
     "metadata": {},
     "output_type": "display_data"
    },
    {
     "data": {
      "application/vnd.jupyter.widget-view+json": {
       "model_id": "2b8d97bc3c25462da1f41fe1b7754fef",
       "version_major": 2,
       "version_minor": 0
      },
      "text/plain": [
       "replaying log with TBR, completed variants ::   0%|          | 0/3 [00:00<?, ?it/s]"
      ]
     },
     "metadata": {},
     "output_type": "display_data"
    },
    {
     "data": {
      "application/vnd.jupyter.widget-view+json": {
       "model_id": "4ae2623c8a6c4bbabfdc8e10c648ea1a",
       "version_major": 2,
       "version_minor": 0
      },
      "text/plain": [
       "replaying log with TBR, completed variants ::   0%|          | 0/80 [00:00<?, ?it/s]"
      ]
     },
     "metadata": {},
     "output_type": "display_data"
    },
    {
     "data": {
      "application/vnd.jupyter.widget-view+json": {
       "model_id": "7cbbf95c5a254583bb381e05a1825b54",
       "version_major": 2,
       "version_minor": 0
      },
      "text/plain": [
       "replaying log with TBR, completed variants ::   0%|          | 0/50 [00:00<?, ?it/s]"
      ]
     },
     "metadata": {},
     "output_type": "display_data"
    },
    {
     "data": {
      "application/vnd.jupyter.widget-view+json": {
       "model_id": "8172bdd06e92450694a620c740fda460",
       "version_major": 2,
       "version_minor": 0
      },
      "text/plain": [
       "replaying log with TBR, completed variants ::   0%|          | 0/2611 [00:00<?, ?it/s]"
      ]
     },
     "metadata": {},
     "output_type": "display_data"
    },
    {
     "data": {
      "application/vnd.jupyter.widget-view+json": {
       "model_id": "6edfb21faddf454dbfffa9889e8ee304",
       "version_major": 2,
       "version_minor": 0
      },
      "text/plain": [
       "replaying log with TBR, completed variants ::   0%|          | 0/173711 [00:00<?, ?it/s]"
      ]
     },
     "metadata": {},
     "output_type": "display_data"
    },
    {
     "data": {
      "application/vnd.jupyter.widget-view+json": {
       "model_id": "fac10c07d9cc47c2b8f1448253f94065",
       "version_major": 2,
       "version_minor": 0
      },
      "text/plain": [
       "replaying log with TBR, completed variants ::   0%|          | 0/56 [00:00<?, ?it/s]"
      ]
     },
     "metadata": {},
     "output_type": "display_data"
    },
    {
     "data": {
      "application/vnd.jupyter.widget-view+json": {
       "model_id": "d29a16e30e064c94811962f8cc8292f5",
       "version_major": 2,
       "version_minor": 0
      },
      "text/plain": [
       "replaying log with TBR, completed variants ::   0%|          | 0/85 [00:00<?, ?it/s]"
      ]
     },
     "metadata": {},
     "output_type": "display_data"
    },
    {
     "name": "stdout",
     "output_type": "stream",
     "text": [
      "Replay results = {'Method': 1, 'Fitness': 0.7193770897159211, 'Precision': 0.682379405651207, 'Simplicity': 0.44398504473778244, 'F1-BCubed': 0.5247398035684203}\n"
     ]
    }
   ],
   "source": [
    "resultsAutoencoder = getResults(method=1, vector_size=32, cluster_alg='agglomerative', dist='cosine')"
   ]
  },
  {
   "cell_type": "code",
   "execution_count": 9,
   "metadata": {},
   "outputs": [
    {
     "name": "stdout",
     "output_type": "stream",
     "text": [
      "F1-BCubed = 0.6462336186324773\n"
     ]
    },
    {
     "name": "stderr",
     "output_type": "stream",
     "text": [
      "C:\\Users\\malte\\.conda\\envs\\replearn\\lib\\site-packages\\pm4py\\evaluation\\replay_fitness\\evaluator.py:73: UserWarning: Use the pm4py.algo.evaluation.replay_fitness package\n",
      "  warnings.warn(\"Use the pm4py.algo.evaluation.replay_fitness package\")\n",
      "C:\\Users\\malte\\.conda\\envs\\replearn\\lib\\site-packages\\pm4py\\evaluation\\precision\\evaluator.py:62: UserWarning: Use the pm4py.algo.evaluation.precision package\n",
      "  warnings.warn(\"Use the pm4py.algo.evaluation.precision package\")\n",
      "C:\\Users\\malte\\.conda\\envs\\replearn\\lib\\site-packages\\pm4py\\evaluation\\simplicity\\evaluator.py:38: UserWarning: Use the pm4py.algo.evaluation.simplicity package\n",
      "  warnings.warn(\"Use the pm4py.algo.evaluation.simplicity package\")\n"
     ]
    },
    {
     "data": {
      "application/vnd.jupyter.widget-view+json": {
       "model_id": "4a74890db6114578a93e14f72790edd3",
       "version_major": 2,
       "version_minor": 0
      },
      "text/plain": [
       "replaying log with TBR, completed variants ::   0%|          | 0/232 [00:00<?, ?it/s]"
      ]
     },
     "metadata": {},
     "output_type": "display_data"
    },
    {
     "data": {
      "application/vnd.jupyter.widget-view+json": {
       "model_id": "73d05ac5eb194c0d90d5649994935036",
       "version_major": 2,
       "version_minor": 0
      },
      "text/plain": [
       "replaying log with TBR, completed variants ::   0%|          | 0/1068 [00:00<?, ?it/s]"
      ]
     },
     "metadata": {},
     "output_type": "display_data"
    },
    {
     "data": {
      "application/vnd.jupyter.widget-view+json": {
       "model_id": "d6b54b56bbf5461fb0da1511dbfe91b9",
       "version_major": 2,
       "version_minor": 0
      },
      "text/plain": [
       "replaying log with TBR, completed variants ::   0%|          | 0/736 [00:00<?, ?it/s]"
      ]
     },
     "metadata": {},
     "output_type": "display_data"
    },
    {
     "data": {
      "application/vnd.jupyter.widget-view+json": {
       "model_id": "54b496f09951487eb4ef52d8a8677405",
       "version_major": 2,
       "version_minor": 0
      },
      "text/plain": [
       "replaying log with TBR, completed variants ::   0%|          | 0/8602 [00:00<?, ?it/s]"
      ]
     },
     "metadata": {},
     "output_type": "display_data"
    },
    {
     "data": {
      "application/vnd.jupyter.widget-view+json": {
       "model_id": "9757a77e4385457bb2de57d28be65a1a",
       "version_major": 2,
       "version_minor": 0
      },
      "text/plain": [
       "replaying log with TBR, completed variants ::   0%|          | 0/476 [00:00<?, ?it/s]"
      ]
     },
     "metadata": {},
     "output_type": "display_data"
    },
    {
     "data": {
      "application/vnd.jupyter.widget-view+json": {
       "model_id": "da899ac01b7246d69235d5951ab429ce",
       "version_major": 2,
       "version_minor": 0
      },
      "text/plain": [
       "replaying log with TBR, completed variants ::   0%|          | 0/8137 [00:00<?, ?it/s]"
      ]
     },
     "metadata": {},
     "output_type": "display_data"
    },
    {
     "data": {
      "application/vnd.jupyter.widget-view+json": {
       "model_id": "05f3092ca9ee4a7aa034d675e5dd51a1",
       "version_major": 2,
       "version_minor": 0
      },
      "text/plain": [
       "replaying log with TBR, completed variants ::   0%|          | 0/460 [00:00<?, ?it/s]"
      ]
     },
     "metadata": {},
     "output_type": "display_data"
    },
    {
     "data": {
      "application/vnd.jupyter.widget-view+json": {
       "model_id": "2ef3aab88fb04a9aad461c8c0a0fe774",
       "version_major": 2,
       "version_minor": 0
      },
      "text/plain": [
       "replaying log with TBR, completed variants ::   0%|          | 0/1855 [00:00<?, ?it/s]"
      ]
     },
     "metadata": {},
     "output_type": "display_data"
    },
    {
     "name": "stdout",
     "output_type": "stream",
     "text": [
      "Replay results = {'Method': 2, 'Fitness': 0.7683096131282454, 'Precision': 0.7573858114856874, 'Simplicity': 0.4802708344315793, 'F1-BCubed': 0.6462336186324773}\n"
     ]
    }
   ],
   "source": [
    "resultsTrace2Vec = getResults(method=2, vector_size=8, cluster_alg='agglomerative', dist='cosine')"
   ]
  },
  {
   "cell_type": "code",
   "execution_count": 10,
   "metadata": {},
   "outputs": [
    {
     "name": "stdout",
     "output_type": "stream",
     "text": [
      "F1-BCubed = 0.542980527021172\n"
     ]
    },
    {
     "name": "stderr",
     "output_type": "stream",
     "text": [
      "C:\\Users\\malte\\.conda\\envs\\replearn\\lib\\site-packages\\pm4py\\evaluation\\replay_fitness\\evaluator.py:73: UserWarning: Use the pm4py.algo.evaluation.replay_fitness package\n",
      "  warnings.warn(\"Use the pm4py.algo.evaluation.replay_fitness package\")\n",
      "C:\\Users\\malte\\.conda\\envs\\replearn\\lib\\site-packages\\pm4py\\evaluation\\precision\\evaluator.py:62: UserWarning: Use the pm4py.algo.evaluation.precision package\n",
      "  warnings.warn(\"Use the pm4py.algo.evaluation.precision package\")\n",
      "C:\\Users\\malte\\.conda\\envs\\replearn\\lib\\site-packages\\pm4py\\evaluation\\simplicity\\evaluator.py:38: UserWarning: Use the pm4py.algo.evaluation.simplicity package\n",
      "  warnings.warn(\"Use the pm4py.algo.evaluation.simplicity package\")\n"
     ]
    },
    {
     "data": {
      "application/vnd.jupyter.widget-view+json": {
       "model_id": "ebef7b3176a94c8e8fa89bf99fbefc9c",
       "version_major": 2,
       "version_minor": 0
      },
      "text/plain": [
       "replaying log with TBR, completed variants ::   0%|          | 0/236 [00:00<?, ?it/s]"
      ]
     },
     "metadata": {},
     "output_type": "display_data"
    },
    {
     "data": {
      "application/vnd.jupyter.widget-view+json": {
       "model_id": "2e74a2e939834df9a2ecf7b0e81cc55b",
       "version_major": 2,
       "version_minor": 0
      },
      "text/plain": [
       "replaying log with TBR, completed variants ::   0%|          | 0/4112 [00:00<?, ?it/s]"
      ]
     },
     "metadata": {},
     "output_type": "display_data"
    },
    {
     "data": {
      "application/vnd.jupyter.widget-view+json": {
       "model_id": "45046492b16b47a8834f80e5bd857055",
       "version_major": 2,
       "version_minor": 0
      },
      "text/plain": [
       "replaying log with TBR, completed variants ::   0%|          | 0/1759 [00:00<?, ?it/s]"
      ]
     },
     "metadata": {},
     "output_type": "display_data"
    },
    {
     "data": {
      "application/vnd.jupyter.widget-view+json": {
       "model_id": "bbbc25b90ecf442fa568eaddcd698678",
       "version_major": 2,
       "version_minor": 0
      },
      "text/plain": [
       "replaying log with TBR, completed variants ::   0%|          | 0/33842 [00:00<?, ?it/s]"
      ]
     },
     "metadata": {},
     "output_type": "display_data"
    },
    {
     "data": {
      "application/vnd.jupyter.widget-view+json": {
       "model_id": "8da167e21bdb49e49fa75c676f59cce1",
       "version_major": 2,
       "version_minor": 0
      },
      "text/plain": [
       "replaying log with TBR, completed variants ::   0%|          | 0/1793 [00:00<?, ?it/s]"
      ]
     },
     "metadata": {},
     "output_type": "display_data"
    },
    {
     "data": {
      "application/vnd.jupyter.widget-view+json": {
       "model_id": "90db4ddaeab64fa281c5b57a7705b9af",
       "version_major": 2,
       "version_minor": 0
      },
      "text/plain": [
       "replaying log with TBR, completed variants ::   0%|          | 0/130297 [00:00<?, ?it/s]"
      ]
     },
     "metadata": {},
     "output_type": "display_data"
    },
    {
     "data": {
      "application/vnd.jupyter.widget-view+json": {
       "model_id": "8772421f6053469fb7687ed9bbe6aa6a",
       "version_major": 2,
       "version_minor": 0
      },
      "text/plain": [
       "replaying log with TBR, completed variants ::   0%|          | 0/565 [00:00<?, ?it/s]"
      ]
     },
     "metadata": {},
     "output_type": "display_data"
    },
    {
     "data": {
      "application/vnd.jupyter.widget-view+json": {
       "model_id": "d47cba1a472e46de86217b5bd6776c37",
       "version_major": 2,
       "version_minor": 0
      },
      "text/plain": [
       "replaying log with TBR, completed variants ::   0%|          | 0/12471 [00:00<?, ?it/s]"
      ]
     },
     "metadata": {},
     "output_type": "display_data"
    },
    {
     "name": "stdout",
     "output_type": "stream",
     "text": [
      "Replay results = {'Method': 3, 'Fitness': 0.5445497595231859, 'Precision': 0.35074663743819645, 'Simplicity': 0.285358403086877, 'F1-BCubed': 0.542980527021172}\n"
     ]
    }
   ],
   "source": [
    "resultsCase2Vec_event = getResults(method=3, vector_size=4, cluster_alg='agglomerative', dist='euclid')"
   ]
  },
  {
   "cell_type": "code",
   "execution_count": 12,
   "metadata": {},
   "outputs": [
    {
     "ename": "TypeError",
     "evalue": "sequence item 11: expected str instance, bool found",
     "output_type": "error",
     "traceback": [
      "\u001b[1;31m---------------------------------------------------------------------------\u001b[0m",
      "\u001b[1;31mTypeError\u001b[0m                                 Traceback (most recent call last)",
      "\u001b[1;32m~\\AppData\\Local\\Temp\\ipykernel_2288\\1661762016.py\u001b[0m in \u001b[0;36m<module>\u001b[1;34m\u001b[0m\n\u001b[1;32m----> 1\u001b[1;33m \u001b[0mresultsCase2Vec_event_case\u001b[0m \u001b[1;33m=\u001b[0m \u001b[0mgetResults\u001b[0m\u001b[1;33m(\u001b[0m\u001b[0mmethod\u001b[0m\u001b[1;33m=\u001b[0m\u001b[1;36m4\u001b[0m\u001b[1;33m,\u001b[0m \u001b[0mvector_size\u001b[0m\u001b[1;33m=\u001b[0m\u001b[1;36m3\u001b[0m\u001b[1;33m,\u001b[0m \u001b[0mcluster_alg\u001b[0m\u001b[1;33m=\u001b[0m\u001b[1;34m'agglomerative'\u001b[0m\u001b[1;33m,\u001b[0m \u001b[0mdist\u001b[0m\u001b[1;33m=\u001b[0m\u001b[1;34m'euclid'\u001b[0m\u001b[1;33m)\u001b[0m\u001b[1;33m\u001b[0m\u001b[1;33m\u001b[0m\u001b[0m\n\u001b[0m",
      "\u001b[1;32m~\\AppData\\Local\\Temp\\ipykernel_2288\\1436513711.py\u001b[0m in \u001b[0;36mgetResults\u001b[1;34m(method, vector_size, cluster_alg, dist)\u001b[0m\n\u001b[0;32m     41\u001b[0m \u001b[1;33m\u001b[0m\u001b[0m\n\u001b[0;32m     42\u001b[0m         \u001b[0mdoc2vec\u001b[0m \u001b[1;33m=\u001b[0m \u001b[0mDoc2VecRepresentation\u001b[0m\u001b[1;33m(\u001b[0m\u001b[0mevent_log\u001b[0m\u001b[1;33m)\u001b[0m\u001b[1;33m\u001b[0m\u001b[1;33m\u001b[0m\u001b[0m\n\u001b[1;32m---> 43\u001b[1;33m         \u001b[0mdoc2vec\u001b[0m\u001b[1;33m.\u001b[0m\u001b[0mbuild_model\u001b[0m\u001b[1;33m(\u001b[0m\u001b[0mappend_case_attr\u001b[0m\u001b[1;33m=\u001b[0m\u001b[1;32mTrue\u001b[0m\u001b[1;33m,\u001b[0m \u001b[0mappend_event_attr\u001b[0m\u001b[1;33m=\u001b[0m\u001b[1;32mTrue\u001b[0m\u001b[1;33m,\u001b[0m \u001b[0mvector_size\u001b[0m\u001b[1;33m=\u001b[0m\u001b[0mvector_size\u001b[0m\u001b[1;33m,\u001b[0m \u001b[0mconcat\u001b[0m\u001b[1;33m=\u001b[0m\u001b[1;32mTrue\u001b[0m\u001b[1;33m,\u001b[0m \u001b[0mepochs\u001b[0m\u001b[1;33m=\u001b[0m\u001b[0mn_epochs\u001b[0m\u001b[1;33m)\u001b[0m\u001b[1;33m\u001b[0m\u001b[1;33m\u001b[0m\u001b[0m\n\u001b[0m\u001b[0;32m     44\u001b[0m         \u001b[0mdoc2vec\u001b[0m\u001b[1;33m.\u001b[0m\u001b[0mfit\u001b[0m\u001b[1;33m(\u001b[0m\u001b[1;33m)\u001b[0m\u001b[1;33m\u001b[0m\u001b[1;33m\u001b[0m\u001b[0m\n\u001b[0;32m     45\u001b[0m         \u001b[1;31m# infer the vector from the model\u001b[0m\u001b[1;33m\u001b[0m\u001b[1;33m\u001b[0m\u001b[1;33m\u001b[0m\u001b[0m\n",
      "\u001b[1;32mc:\\users\\malte\\desktop\\coding\\apm_0306\\apm\\replearn\\doc2vec.py\u001b[0m in \u001b[0;36mbuild_model\u001b[1;34m(self, vector_size, window, min_count, append_event_attr, append_case_attr, concat, epochs)\u001b[0m\n\u001b[0;32m     24\u001b[0m             \u001b[0mwords\u001b[0m\u001b[1;33m.\u001b[0m\u001b[0mappend\u001b[0m\u001b[1;33m(\u001b[0m\u001b[1;34m'start'\u001b[0m\u001b[1;33m)\u001b[0m\u001b[1;33m\u001b[0m\u001b[1;33m\u001b[0m\u001b[0m\n\u001b[0;32m     25\u001b[0m \u001b[1;33m\u001b[0m\u001b[0m\n\u001b[1;32m---> 26\u001b[1;33m             \u001b[0mcase_attr\u001b[0m \u001b[1;33m=\u001b[0m \u001b[1;33m(\u001b[0m\u001b[1;34m'+'\u001b[0m \u001b[1;33m+\u001b[0m \u001b[1;34m'+'\u001b[0m\u001b[1;33m.\u001b[0m\u001b[0mjoin\u001b[0m\u001b[1;33m(\u001b[0m\u001b[1;33m[\u001b[0m\u001b[1;34m''\u001b[0m \u001b[1;32mif\u001b[0m \u001b[0mfeature\u001b[0m \u001b[1;32mnot\u001b[0m \u001b[1;32min\u001b[0m \u001b[0mtrace\u001b[0m\u001b[1;33m.\u001b[0m\u001b[0mattributes\u001b[0m \u001b[1;32melse\u001b[0m \u001b[0mtrace\u001b[0m\u001b[1;33m.\u001b[0m\u001b[0mattributes\u001b[0m\u001b[1;33m[\u001b[0m\u001b[0mfeature\u001b[0m\u001b[1;33m]\u001b[0m \u001b[1;32mfor\u001b[0m \u001b[0mfeature\u001b[0m \u001b[1;32min\u001b[0m \u001b[0mself\u001b[0m\u001b[1;33m.\u001b[0m\u001b[0m_event_log\u001b[0m\u001b[1;33m.\u001b[0m\u001b[0mcase_attributes\u001b[0m\u001b[1;33m]\u001b[0m\u001b[1;33m)\u001b[0m\u001b[1;33m)\u001b[0m \u001b[1;32mif\u001b[0m \u001b[0mappend_case_attr\u001b[0m \u001b[1;32melse\u001b[0m \u001b[1;34m''\u001b[0m\u001b[1;33m\u001b[0m\u001b[1;33m\u001b[0m\u001b[0m\n\u001b[0m\u001b[0;32m     27\u001b[0m \u001b[1;33m\u001b[0m\u001b[0m\n\u001b[0;32m     28\u001b[0m             \u001b[1;32mif\u001b[0m \u001b[0mconcat\u001b[0m\u001b[1;33m:\u001b[0m\u001b[1;33m\u001b[0m\u001b[1;33m\u001b[0m\u001b[0m\n",
      "\u001b[1;31mTypeError\u001b[0m: sequence item 11: expected str instance, bool found"
     ]
    }
   ],
   "source": [
    "resultsCase2Vec_event_case = getResults(method=4, vector_size=3, cluster_alg='agglomerative', dist='euclid')"
   ]
  },
  {
   "cell_type": "code",
   "execution_count": 13,
   "metadata": {},
   "outputs": [],
   "source": [
    "allResults = pd.DataFrame([resultsAutoencoder, resultsGRU, resultsTrace2Vec, resultsCase2Vec_event, resultsLSTM])"
   ]
  },
  {
   "cell_type": "code",
   "execution_count": 14,
   "metadata": {},
   "outputs": [],
   "source": [
    "allResults.to_csv('BPIC_2019_results.csv', encoding='utf-8', index=False, sep=';')"
   ]
  },
  {
   "cell_type": "code",
   "execution_count": null,
   "metadata": {},
   "outputs": [],
   "source": []
  }
 ],
 "metadata": {
  "kernelspec": {
   "display_name": "Python 3 (ipykernel)",
   "language": "python",
   "name": "python3"
  },
  "language_info": {
   "codemirror_mode": {
    "name": "ipython",
    "version": 3
   },
   "file_extension": ".py",
   "mimetype": "text/x-python",
   "name": "python",
   "nbconvert_exporter": "python",
   "pygments_lexer": "ipython3",
   "version": "3.7.13"
  }
 },
 "nbformat": 4,
 "nbformat_minor": 4
}
