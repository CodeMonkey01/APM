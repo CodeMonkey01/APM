{
 "cells": [
  {
   "cell_type": "markdown",
   "metadata": {},
   "source": [
    "# Learning of Process Representations Using Recurrent Neural Networks"
   ]
  },
  {
   "cell_type": "code",
   "execution_count": 16,
   "metadata": {},
   "outputs": [],
   "source": [
    "import numpy as np\n",
    "import pandas as pd\n",
    "\n",
    "from replearn.eventlog import EventLog\n",
    "\n",
    "from replearn.embedding_predict import EmbeddingPredict\n",
    "from replearn.autoencoder import AutoencoderRepresentation\n",
    "from replearn.doc2vec import Doc2VecRepresentation\n",
    "\n",
    "from replearn.clustering import Clustering"
   ]
  },
  {
   "cell_type": "markdown",
   "metadata": {},
   "source": [
    "## Load event log"
   ]
  },
  {
   "cell_type": "code",
   "execution_count": 17,
   "metadata": {},
   "outputs": [],
   "source": [
    "# event log configuration\n",
    "event_log_path = '../logs/multi-perspective_02'\n",
    "file_name = 'huge_500_10_20_5_1_1-0.0-1.json.gz'\n",
    "\n",
    "case_attributes = None # auto-detect attributes\n",
    "event_attributes = ['concept:name', 'user'] # use activity name and user\n",
    "true_cluster_label = 'cluster'\n",
    "\n",
    "# load file\n",
    "event_log = EventLog(file_name, case_attributes=case_attributes, event_attributes=event_attributes, true_cluster_label=true_cluster_label)\n",
    "event_log.load(event_log_path + '/' + file_name, False)\n",
    "event_log.preprocess()"
   ]
  },
  {
   "cell_type": "markdown",
   "metadata": {},
   "source": [
    "## Representation Learning"
   ]
  },
  {
   "cell_type": "code",
   "execution_count": 18,
   "metadata": {},
   "outputs": [],
   "source": [
    "# hyperparameters\n",
    "n_epochs = 10\n",
    "n_batch_size = 64\n",
    "n_clusters = 5\n",
    "\n",
    "vector_size = 32"
   ]
  },
  {
   "cell_type": "markdown",
   "metadata": {},
   "source": [
    "### Trace2vec"
   ]
  },
  {
   "cell_type": "code",
   "execution_count": 19,
   "metadata": {},
   "outputs": [],
   "source": [
    "doc2vec = Doc2VecRepresentation(event_log)\n",
    "doc2vec.build_model(append_case_attr=False, append_event_attr=False, vector_size=vector_size, concat=True, epochs=n_epochs)\n",
    "doc2vec.fit()"
   ]
  },
  {
   "cell_type": "code",
   "execution_count": 20,
   "metadata": {},
   "outputs": [],
   "source": [
    "# infer the vector from the model\n",
    "feature_vector = doc2vec.predict(epochs=50)"
   ]
  },
  {
   "cell_type": "code",
   "execution_count": 21,
   "metadata": {},
   "outputs": [],
   "source": [
    "# cluster feature vector\n",
    "cluster_analysis = Clustering(event_log)\n",
    "cluster_analysis.cluster(feature_vector, 'agglomerative', n_clusters, 'cosine')\n",
    "\n",
    "cluster_result = cluster_analysis.evaluate()"
   ]
  },
  {
   "cell_type": "code",
   "execution_count": 22,
   "metadata": {},
   "outputs": [
    {
     "name": "stdout",
     "output_type": "stream",
     "text": [
      "Adjusted Rand Index: 0.4357940866180324\n",
      "Normalized Mutual Information: 0.6104346623757338\n",
      "F1-BCubed: 0.6369988968145126\n",
      "Adjusted Rand Index: 0.4357940866180324\n",
      "Normalized Mutual Information: 0.6104346623757338\n",
      "F1-BCubed: 0.6369988968145126\n"
     ]
    }
   ],
   "source": [
    "print('Adjusted Rand Index: ' + str(cluster_result[0]))\n",
    "print('Normalized Mutual Information: ' + str(cluster_result[1]))\n",
    "print('F1-BCubed: ' + str(cluster_result[2]))"
   ]
  },
  {
   "cell_type": "markdown",
   "metadata": {},
   "source": [
    "### Case2vec (event)"
   ]
  },
  {
   "cell_type": "code",
   "execution_count": 23,
   "metadata": {},
   "outputs": [],
   "source": [
    "# train doc2vec model\n",
    "doc2vec = Doc2VecRepresentation(event_log)\n",
    "doc2vec.build_model(append_case_attr=False, append_event_attr=True, vector_size=vector_size, concat=True, epochs=n_epochs)\n",
    "doc2vec.fit()"
   ]
  },
  {
   "cell_type": "code",
   "execution_count": 24,
   "metadata": {},
   "outputs": [],
   "source": [
    "# infer the vector from the model\n",
    "feature_vector = doc2vec.predict(epochs=50)"
   ]
  },
  {
   "cell_type": "code",
   "execution_count": 25,
   "metadata": {},
   "outputs": [],
   "source": [
    "# cluster feature vector\n",
    "cluster_analysis = Clustering(event_log)\n",
    "cluster_analysis.cluster(feature_vector, 'agglomerative', n_clusters, 'cosine')\n",
    "\n",
    "cluster_result = cluster_analysis.evaluate()"
   ]
  },
  {
   "cell_type": "code",
   "execution_count": 26,
   "metadata": {},
   "outputs": [
    {
     "name": "stdout",
     "output_type": "stream",
     "text": [
      "Adjusted Rand Index: 0.36276534639450136\n",
      "Normalized Mutual Information: 0.5619908040738674\n",
      "F1-BCubed: 0.6046124507488921\n",
      "Adjusted Rand Index: 0.36276534639450136\n",
      "Normalized Mutual Information: 0.5619908040738674\n",
      "F1-BCubed: 0.6046124507488921\n"
     ]
    }
   ],
   "source": [
    "print('Adjusted Rand Index: ' + str(cluster_result[0]))\n",
    "print('Normalized Mutual Information: ' + str(cluster_result[1]))\n",
    "print('F1-BCubed: ' + str(cluster_result[2]))"
   ]
  },
  {
   "cell_type": "markdown",
   "metadata": {},
   "source": [
    "### Case2vec (event+case)"
   ]
  },
  {
   "cell_type": "code",
   "execution_count": 27,
   "metadata": {},
   "outputs": [],
   "source": [
    "doc2vec = Doc2VecRepresentation(event_log)\n",
    "doc2vec.build_model(append_case_attr=True, append_event_attr=True, vector_size=vector_size, concat=True, epochs=n_epochs)\n",
    "doc2vec.fit()"
   ]
  },
  {
   "cell_type": "code",
   "execution_count": 28,
   "metadata": {},
   "outputs": [],
   "source": [
    "# infer the vector from the model\n",
    "feature_vector = doc2vec.predict(epochs=50)"
   ]
  },
  {
   "cell_type": "code",
   "execution_count": 29,
   "metadata": {},
   "outputs": [],
   "source": [
    "# cluster feature vector\n",
    "cluster_analysis = Clustering(event_log)\n",
    "cluster_analysis.cluster(feature_vector, 'agglomerative', n_clusters, 'cosine')\n",
    "\n",
    "cluster_result = cluster_analysis.evaluate()"
   ]
  },
  {
   "cell_type": "code",
   "execution_count": 30,
   "metadata": {},
   "outputs": [
    {
     "name": "stdout",
     "output_type": "stream",
     "text": [
      "Adjusted Rand Index: 0.09703430402454258\n",
      "Normalized Mutual Information: 0.37298003589492845\n",
      "F1-BCubed: 0.5621685665235079\n",
      "Adjusted Rand Index: 0.09703430402454258\n",
      "Normalized Mutual Information: 0.37298003589492845\n",
      "F1-BCubed: 0.5621685665235079\n"
     ]
    }
   ],
   "source": [
    "print('Adjusted Rand Index: ' + str(cluster_result[0]))\n",
    "print('Normalized Mutual Information: ' + str(cluster_result[1]))\n",
    "print('F1-BCubed: ' + str(cluster_result[2]))"
   ]
  },
  {
   "cell_type": "code",
   "execution_count": 30,
   "metadata": {},
   "outputs": [],
   "source": []
  }
 ],
 "metadata": {
  "kernelspec": {
   "display_name": "Python 3",
   "language": "python",
   "name": "python3"
  },
  "language_info": {
   "codemirror_mode": {
    "name": "ipython",
    "version": 3
   },
   "file_extension": ".py",
   "mimetype": "text/x-python",
   "name": "python",
   "nbconvert_exporter": "python",
   "pygments_lexer": "ipython3",
   "version": "3.8.8"
  }
 },
 "nbformat": 4,
 "nbformat_minor": 4
}