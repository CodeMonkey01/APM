{
 "cells": [
  {
   "cell_type": "code",
   "execution_count": 2,
   "id": "a0a1b2c2",
   "metadata": {},
   "outputs": [],
   "source": [
    "from scipy import stats "
   ]
  },
  {
   "cell_type": "code",
   "execution_count": 3,
   "id": "216212fd",
   "metadata": {},
   "outputs": [],
   "source": [
    "group1 = [7, 9, 10, 18, 4, 4, 6, 27, 4, 3, 2, 18, 7, 6, 12]\n",
    "group2 = [12, 6, 3, 7, 8, 0, 1, 8, 7, 7, 2, 4, 6, 4, 5]\n",
    "group3 = [21, 41, 41, 31, 2, 2, 11, 4, 31, 2, 91, 1, 2, 31, 4]\n",
    "group4 = [2, 3, 4, 3, 0, 0, 1, 4, 1, 2, 3, 1, 6, 3, 5]"
   ]
  },
  {
   "cell_type": "markdown",
   "id": "11e3bcab",
   "metadata": {},
   "source": [
    "## Friedman"
   ]
  },
  {
   "cell_type": "code",
   "execution_count": 16,
   "id": "4c9de859",
   "metadata": {},
   "outputs": [
    {
     "data": {
      "text/plain": [
       "FriedmanchisquareResult(statistic=13.26760563380282, pvalue=0.004092222834600871)"
      ]
     },
     "execution_count": 16,
     "metadata": {},
     "output_type": "execute_result"
    }
   ],
   "source": [
    "# check if Friedman test indicates significance\n",
    "# Null Hypothesis: The mean for each population is equal. -> no significant differenc would mean that approaches are the same\n",
    "# p-value has to be smaller than 0,05 to reject the Null Hypothesis\n",
    "\n",
    "from scipy.stats import friedmanchisquare\n",
    "friedman = friedmanchisquare(group1, group2, group3, group4)\n",
    "friedman\n",
    "# I guess p value should be smaller than 0,05 to see a significant difference in the data "
   ]
  },
  {
   "cell_type": "markdown",
   "id": "3bba2ba1",
   "metadata": {},
   "source": [
    "## Bonferroni Corrected P value"
   ]
  },
  {
   "cell_type": "code",
   "execution_count": 6,
   "id": "a0af0df6",
   "metadata": {},
   "outputs": [
    {
     "name": "stdout",
     "output_type": "stream",
     "text": [
      "[0.00409222]\n"
     ]
    }
   ],
   "source": [
    "from statsmodels.sandbox.stats.multicomp import multipletests\n",
    "p_adjusted = multipletests(pval, alpha=0.05, method='bonferroni')\n",
    "print(p_adjusted[1])"
   ]
  },
  {
   "cell_type": "markdown",
   "id": "6e464338",
   "metadata": {},
   "source": [
    "## Wilcoxon signed rank test"
   ]
  },
  {
   "cell_type": "code",
   "execution_count": 41,
   "id": "5b917a86",
   "metadata": {},
   "outputs": [
    {
     "name": "stdout",
     "output_type": "stream",
     "text": [
      "Collecting scikit-posthocs\n",
      "  Downloading scikit_posthocs-0.7.0-py3-none-any.whl (38 kB)\n",
      "Requirement already satisfied: numpy in /Users/juliusdollinger/opt/anaconda3/lib/python3.8/site-packages (from scikit-posthocs) (1.21.2)\n",
      "Requirement already satisfied: seaborn in /Users/juliusdollinger/opt/anaconda3/lib/python3.8/site-packages (from scikit-posthocs) (0.11.1)\n",
      "Requirement already satisfied: matplotlib in /Users/juliusdollinger/opt/anaconda3/lib/python3.8/site-packages (from scikit-posthocs) (3.3.4)\n",
      "Requirement already satisfied: scipy in /Users/juliusdollinger/opt/anaconda3/lib/python3.8/site-packages (from scikit-posthocs) (1.6.2)\n",
      "Requirement already satisfied: pandas>=0.20.0 in /Users/juliusdollinger/opt/anaconda3/lib/python3.8/site-packages (from scikit-posthocs) (1.2.2)\n",
      "Requirement already satisfied: statsmodels in /Users/juliusdollinger/opt/anaconda3/lib/python3.8/site-packages (from scikit-posthocs) (0.12.2)\n",
      "Requirement already satisfied: pytz>=2017.3 in /Users/juliusdollinger/opt/anaconda3/lib/python3.8/site-packages (from pandas>=0.20.0->scikit-posthocs) (2021.1)\n",
      "Requirement already satisfied: python-dateutil>=2.7.3 in /Users/juliusdollinger/opt/anaconda3/lib/python3.8/site-packages (from pandas>=0.20.0->scikit-posthocs) (2.8.1)\n",
      "Requirement already satisfied: six>=1.5 in /Users/juliusdollinger/opt/anaconda3/lib/python3.8/site-packages (from python-dateutil>=2.7.3->pandas>=0.20.0->scikit-posthocs) (1.15.0)\n",
      "Requirement already satisfied: cycler>=0.10 in /Users/juliusdollinger/opt/anaconda3/lib/python3.8/site-packages (from matplotlib->scikit-posthocs) (0.10.0)\n",
      "Requirement already satisfied: pillow>=6.2.0 in /Users/juliusdollinger/opt/anaconda3/lib/python3.8/site-packages (from matplotlib->scikit-posthocs) (8.2.0)\n",
      "Requirement already satisfied: kiwisolver>=1.0.1 in /Users/juliusdollinger/opt/anaconda3/lib/python3.8/site-packages (from matplotlib->scikit-posthocs) (1.3.1)\n",
      "Requirement already satisfied: pyparsing!=2.0.4,!=2.1.2,!=2.1.6,>=2.0.3 in /Users/juliusdollinger/opt/anaconda3/lib/python3.8/site-packages (from matplotlib->scikit-posthocs) (2.4.7)\n",
      "Requirement already satisfied: patsy>=0.5 in /Users/juliusdollinger/opt/anaconda3/lib/python3.8/site-packages (from statsmodels->scikit-posthocs) (0.5.1)\n",
      "Installing collected packages: scikit-posthocs\n",
      "Successfully installed scikit-posthocs-0.7.0\n"
     ]
    }
   ],
   "source": [
    "!pip install scikit-posthocs"
   ]
  },
  {
   "cell_type": "code",
   "execution_count": 48,
   "id": "6ce9bcb4",
   "metadata": {},
   "outputs": [
    {
     "name": "stderr",
     "output_type": "stream",
     "text": [
      "/Users/juliusdollinger/opt/anaconda3/lib/python3.8/site-packages/scipy/stats/morestats.py:2967: UserWarning: Exact p-value calculation does not work if there are ties. Switching to normal approximation.\n",
      "  warnings.warn(\"Exact p-value calculation does not work if there are \"\n"
     ]
    },
    {
     "data": {
      "text/html": [
       "<div>\n",
       "<style scoped>\n",
       "    .dataframe tbody tr th:only-of-type {\n",
       "        vertical-align: middle;\n",
       "    }\n",
       "\n",
       "    .dataframe tbody tr th {\n",
       "        vertical-align: top;\n",
       "    }\n",
       "\n",
       "    .dataframe thead th {\n",
       "        text-align: right;\n",
       "    }\n",
       "</style>\n",
       "<table border=\"1\" class=\"dataframe\">\n",
       "  <thead>\n",
       "    <tr style=\"text-align: right;\">\n",
       "      <th></th>\n",
       "      <th>1</th>\n",
       "      <th>2</th>\n",
       "      <th>3</th>\n",
       "      <th>4</th>\n",
       "    </tr>\n",
       "  </thead>\n",
       "  <tbody>\n",
       "    <tr>\n",
       "      <th>1</th>\n",
       "      <td>1.000000</td>\n",
       "      <td>0.073097</td>\n",
       "      <td>0.168823</td>\n",
       "      <td>0.000183</td>\n",
       "    </tr>\n",
       "    <tr>\n",
       "      <th>2</th>\n",
       "      <td>0.073097</td>\n",
       "      <td>1.000000</td>\n",
       "      <td>0.055359</td>\n",
       "      <td>0.009707</td>\n",
       "    </tr>\n",
       "    <tr>\n",
       "      <th>3</th>\n",
       "      <td>0.168823</td>\n",
       "      <td>0.055359</td>\n",
       "      <td>1.000000</td>\n",
       "      <td>0.007602</td>\n",
       "    </tr>\n",
       "    <tr>\n",
       "      <th>4</th>\n",
       "      <td>0.000183</td>\n",
       "      <td>0.009707</td>\n",
       "      <td>0.007602</td>\n",
       "      <td>1.000000</td>\n",
       "    </tr>\n",
       "  </tbody>\n",
       "</table>\n",
       "</div>"
      ],
      "text/plain": [
       "          1         2         3         4\n",
       "1  1.000000  0.073097  0.168823  0.000183\n",
       "2  0.073097  1.000000  0.055359  0.009707\n",
       "3  0.168823  0.055359  1.000000  0.007602\n",
       "4  0.000183  0.009707  0.007602  1.000000"
      ]
     },
     "execution_count": 48,
     "metadata": {},
     "output_type": "execute_result"
    }
   ],
   "source": [
    "import scikit_posthocs as sp\n",
    "data = [group1, group2, group3, group4]\n",
    "sp.posthoc_wilcoxon(data)"
   ]
  },
  {
   "cell_type": "markdown",
   "id": "012125a9",
   "metadata": {},
   "source": [
    "## Kendall's W"
   ]
  },
  {
   "cell_type": "code",
   "execution_count": 31,
   "id": "ada4cde6",
   "metadata": {},
   "outputs": [
    {
     "name": "stdout",
     "output_type": "stream",
     "text": [
      "2.653521126760564\n"
     ]
    }
   ],
   "source": [
    "Q = friedman[0]\n",
    "n = 15 # n = number of cases i.e. number of rows\n",
    "k = 4 # k = the number of variables i.e. the numberb of columns\n",
    "\n",
    "W = (Q/n*(k-1))\n",
    "print(W)"
   ]
  },
  {
   "cell_type": "markdown",
   "id": "67b2a06b",
   "metadata": {},
   "source": [
    "## Cohen's threshold"
   ]
  },
  {
   "cell_type": "code",
   "execution_count": 34,
   "id": "432ceb19",
   "metadata": {},
   "outputs": [
    {
     "ename": "TypeError",
     "evalue": "proportion_effectsize() missing 2 required positional arguments: 'prop1' and 'prop2'",
     "output_type": "error",
     "traceback": [
      "\u001b[0;31m---------------------------------------------------------------------------\u001b[0m",
      "\u001b[0;31mTypeError\u001b[0m                                 Traceback (most recent call last)",
      "\u001b[0;32m<ipython-input-34-1312db9599cf>\u001b[0m in \u001b[0;36m<module>\u001b[0;34m\u001b[0m\n\u001b[1;32m      1\u001b[0m \u001b[0;32mfrom\u001b[0m \u001b[0mstatsmodels\u001b[0m\u001b[0;34m.\u001b[0m\u001b[0mstats\u001b[0m\u001b[0;34m.\u001b[0m\u001b[0mproportion\u001b[0m \u001b[0;32mimport\u001b[0m \u001b[0mproportion_effectsize\u001b[0m\u001b[0;34m\u001b[0m\u001b[0;34m\u001b[0m\u001b[0m\n\u001b[0;32m----> 2\u001b[0;31m \u001b[0mproportion_effectsize\u001b[0m\u001b[0;34m(\u001b[0m\u001b[0;34m)\u001b[0m\u001b[0;34m\u001b[0m\u001b[0;34m\u001b[0m\u001b[0m\n\u001b[0m",
      "\u001b[0;31mTypeError\u001b[0m: proportion_effectsize() missing 2 required positional arguments: 'prop1' and 'prop2'"
     ]
    }
   ],
   "source": [
    "from statsmodels.stats.proportion import proportion_effectsize\n",
    "proportion_effectsize()"
   ]
  },
  {
   "cell_type": "code",
   "execution_count": null,
   "id": "b5f73d53",
   "metadata": {},
   "outputs": [],
   "source": []
  }
 ],
 "metadata": {
  "kernelspec": {
   "display_name": "Python 3",
   "language": "python",
   "name": "python3"
  },
  "language_info": {
   "codemirror_mode": {
    "name": "ipython",
    "version": 3
   },
   "file_extension": ".py",
   "mimetype": "text/x-python",
   "name": "python",
   "nbconvert_exporter": "python",
   "pygments_lexer": "ipython3",
   "version": "3.8.8"
  }
 },
 "nbformat": 4,
 "nbformat_minor": 5
}
