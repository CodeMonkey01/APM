{
 "cells": [
  {
   "cell_type": "code",
   "execution_count": 4,
   "metadata": {},
   "outputs": [
    {
     "ename": "ImportError",
     "evalue": "cannot import name 'factory' from 'pm4py.objects.log.importer.xes' (/opt/anaconda3/lib/python3.8/site-packages/pm4py/objects/log/importer/xes/__init__.py)",
     "output_type": "error",
     "traceback": [
      "\u001B[0;31m---------------------------------------------------------------------------\u001B[0m",
      "\u001B[0;31mImportError\u001B[0m                               Traceback (most recent call last)",
      "\u001B[0;32m<ipython-input-4-e1d9a056af2a>\u001B[0m in \u001B[0;36m<module>\u001B[0;34m\u001B[0m\n\u001B[1;32m      4\u001B[0m \u001B[0;32mimport\u001B[0m \u001B[0mos\u001B[0m\u001B[0;34m\u001B[0m\u001B[0;34m\u001B[0m\u001B[0m\n\u001B[1;32m      5\u001B[0m \u001B[0;32mimport\u001B[0m \u001B[0mgit\u001B[0m\u001B[0;34m\u001B[0m\u001B[0;34m\u001B[0m\u001B[0m\n\u001B[0;32m----> 6\u001B[0;31m \u001B[0;32mfrom\u001B[0m \u001B[0mpm4py\u001B[0m\u001B[0;34m.\u001B[0m\u001B[0mobjects\u001B[0m\u001B[0;34m.\u001B[0m\u001B[0mlog\u001B[0m\u001B[0;34m.\u001B[0m\u001B[0mimporter\u001B[0m\u001B[0;34m.\u001B[0m\u001B[0mxes\u001B[0m \u001B[0;32mimport\u001B[0m \u001B[0mfactory\u001B[0m \u001B[0;32mas\u001B[0m \u001B[0mxes_import_factory\u001B[0m\u001B[0;34m\u001B[0m\u001B[0;34m\u001B[0m\u001B[0m\n\u001B[0m\u001B[1;32m      7\u001B[0m \u001B[0;32mimport\u001B[0m \u001B[0mpm4py\u001B[0m\u001B[0;34m.\u001B[0m\u001B[0mobjects\u001B[0m\u001B[0;34m.\u001B[0m\u001B[0mlog\u001B[0m\u001B[0;34m.\u001B[0m\u001B[0mimporter\u001B[0m\u001B[0;34m.\u001B[0m\u001B[0mxes\u001B[0m\u001B[0;34m\u001B[0m\u001B[0;34m\u001B[0m\u001B[0m\n\u001B[1;32m      8\u001B[0m \u001B[0;32mfrom\u001B[0m \u001B[0mreplearn\u001B[0m\u001B[0;34m.\u001B[0m\u001B[0meventlog\u001B[0m \u001B[0;32mimport\u001B[0m \u001B[0mEventLog\u001B[0m\u001B[0;34m\u001B[0m\u001B[0;34m\u001B[0m\u001B[0m\n",
      "\u001B[0;31mImportError\u001B[0m: cannot import name 'factory' from 'pm4py.objects.log.importer.xes' (/opt/anaconda3/lib/python3.8/site-packages/pm4py/objects/log/importer/xes/__init__.py)"
     ]
    }
   ],
   "source": [
    "import numpy as np\n",
    "import pandas as pd\n",
    "import glob\n",
    "import os\n",
    "import git\n",
    "from pm4py.objects.log.importer.xes import factory as xes_import_factory\n",
    "import pm4py.objects.log.importer.xes\n",
    "from replearn.eventlog import EventLog\n",
    "from log_iteration import Iteration"
   ]
  },
  {
   "cell_type": "code",
   "execution_count": null,
   "metadata": {},
   "outputs": [],
   "source": [
    "\n",
    "# get all files from Folder Iteration ending with 'json.gz'\n",
    "event_log_path = '/logs/iteration/*.json.gz'\n",
    "git_path = git.Repo(\".\", search_parent_directories=True).git.rev_parse(\"--show-toplevel\")\n",
    "final_path = git_path+event_log_path\n",
    "files = glob.glob(final_path)\n",
    "\n",
    "column_names = {    0:'Method', \n",
    "                    1:'b1',\n",
    "                    2:'b2',\n",
    "                    3:'b3',\n",
    "                    4:'b4',\n",
    "                    5:'b5',\n",
    "                    6:'b6',\n",
    "                    7:'b7'}\n",
    "combined_results = pd.DataFrame()\n",
    "combined_results.rename(columns = column_names, inplace = True) \n",
    "\n",
    "for filepath in files:\n",
    "\n",
    "    # load eventlog \n",
    "    # event log configuration\n",
    "    event_log_path = filepath\n",
    "    file_name = os.path.basename(filepath)\n",
    "\n",
    "    case_attributes = None # auto-detect attributes\n",
    "    event_attributes = ['concept:name', 'user'] # use activity name and user\n",
    "    true_cluster_label = 'cluster'\n",
    "\n",
    "    # load file\n",
    "    event_log = EventLog(file_name, case_attributes=case_attributes, event_attributes=event_attributes, true_cluster_label=true_cluster_label)\n",
    "    event_log.load(event_log_path, False)\n",
    "    event_log.preprocess()\n",
    "\n",
    "\n",
    "    # hyperparameters\n",
    "    n_epochs = 10\n",
    "    n_batch_size = 64\n",
    "    n_clusters = 5\n",
    "    vector_size = 32\n",
    "    hyperparameters = [n_epochs,n_batch_size,n_clusters,vector_size]\n",
    "    \n",
    "    # get combined results for current file and add filename as first column \n",
    "    current_combined_results = Iteration.get_combined_results(event_log,hyperparameters,column_names)\n",
    "    current_combined_results.insert(loc=0, column='Filename', value=file_name)\n",
    "\n",
    "    # add current_combined_results to overall combined results df \n",
    "    combined_results = combined_results.append(current_combined_results)\n"
   ]
  },
  {
   "cell_type": "code",
   "execution_count": null,
   "metadata": {},
   "outputs": [],
   "source": [
    "combined_results"
   ]
  }
 ],
 "metadata": {
  "interpreter": {
   "hash": "b7d6d89260849ad6fae2ac6ef1f683d55b51012ca6af9675811128abf3205473"
  },
  "kernelspec": {
   "display_name": "Python 3.7.13 ('replearn')",
   "language": "python",
   "name": "python3"
  },
  "language_info": {
   "codemirror_mode": {
    "name": "ipython",
    "version": 3
   },
   "file_extension": ".py",
   "mimetype": "text/x-python",
   "name": "python",
   "nbconvert_exporter": "python",
   "pygments_lexer": "ipython3",
   "version": "3.7.13"
  },
  "orig_nbformat": 4
 },
 "nbformat": 4,
 "nbformat_minor": 2
}